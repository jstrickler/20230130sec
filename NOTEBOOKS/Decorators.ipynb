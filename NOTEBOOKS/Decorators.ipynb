{
 "cells": [
  {
   "cell_type": "markdown",
   "metadata": {},
   "source": [
    "# What are decorators?"
   ]
  },
  {
   "cell_type": "markdown",
   "metadata": {},
   "source": [
    "A decorator is a function (or class) that can modify another function (or class)."
   ]
  },
  {
   "cell_type": "markdown",
   "metadata": {},
   "source": [
    "## Applying Decorators "
   ]
  },
  {
   "cell_type": "markdown",
   "metadata": {},
   "source": [
    "The most important thing to learn about decorators is how they are applied.\n",
    "\n",
    "When you say\n",
    "\n",
    "```python\n",
    "@my_decorator\n",
    "def my_function():\n",
    "    pass\n",
    "```\n",
    "\n",
    "it is *exactly* the same as saying\n",
    "\n",
    "```python\n",
    "my_function = my_decorator(my_function)\n",
    "```\n",
    "\n",
    "This takes care of the simple case where the decorator does not require arguments.\n",
    "\n",
    "When a decorator needs arguments, it's slightly more complicated:\n",
    "\n",
    "```python\n",
    "@my_decorator(arg1, arg2, ...)\n",
    "def my_function():\n",
    "    pass\n",
    "```\n",
    "\n",
    "is the same as\n",
    "\n",
    "```python\n",
    "my_function = my_decorator(arg1, arg2, ...)(my_function)\n",
    "```"
   ]
  },
  {
   "cell_type": "markdown",
   "metadata": {},
   "source": [
    "For a very simple case, we can make a decorator thst does some side effect, but doesn't really modify the target function."
   ]
  },
  {
   "cell_type": "code",
   "execution_count": 1,
   "metadata": {
    "collapsed": true
   },
   "outputs": [],
   "source": [
    "def bark(old_function):\n",
    "    print(\"Woof! woof!\")\n",
    "    return old_function"
   ]
  },
  {
   "cell_type": "markdown",
   "metadata": {},
   "source": [
    "The decorator returns a *replacement function* that replaces the function you defined. In this case the replacement is really the orginal function."
   ]
  },
  {
   "cell_type": "markdown",
   "metadata": {},
   "source": [
    "To apply, use the @ notation:"
   ]
  },
  {
   "cell_type": "code",
   "execution_count": 3,
   "metadata": {},
   "outputs": [
    {
     "name": "stdout",
     "output_type": "stream",
     "text": [
      "Woof! woof!\n"
     ]
    }
   ],
   "source": [
    "@bark\n",
    "def spam():\n",
    "    print(\"Hello from spam()\")"
   ]
  },
  {
   "cell_type": "markdown",
   "metadata": {},
   "source": [
    "Note that the output occurs when the output is applied, not when the subject function is run.\n",
    "\n",
    "To make code that happens when the subject function is run, the decorator must define and return a new function, which in turns calls the original function. "
   ]
  },
  {
   "cell_type": "code",
   "execution_count": 10,
   "metadata": {},
   "outputs": [
    {
     "name": "stdout",
     "output_type": "stream",
     "text": [
      "woof! woof!\n",
      "ham\n"
     ]
    }
   ],
   "source": [
    "from functools import wraps\n",
    "\n",
    "def bark(old_function):\n",
    "    \n",
    "    @wraps(old_function)\n",
    "    def replacement_function(*args, **kwargs):\n",
    "        print(\"woof! woof!\")  # EXTRA STUFF\n",
    "        return\n",
    "        old_return = old_function(*args, **kwargs)\n",
    "        return old_return\n",
    "    \n",
    "    return replacement_function\n",
    "\n",
    "@bark\n",
    "def ham():\n",
    "    print(\"hello from ham()\")\n",
    "\n",
    "# ham = bark(ham)\n",
    "\n",
    "ham()\n",
    "print(ham.__name__)"
   ]
  },
  {
   "cell_type": "code",
   "execution_count": null,
   "metadata": {
    "collapsed": true
   },
   "outputs": [],
   "source": []
  }
 ],
 "metadata": {
  "kernelspec": {
   "display_name": "Python 3",
   "language": "python",
   "name": "python3"
  },
  "language_info": {
   "codemirror_mode": {
    "name": "ipython",
    "version": 3
   },
   "file_extension": ".py",
   "mimetype": "text/x-python",
   "name": "python",
   "nbconvert_exporter": "python",
   "pygments_lexer": "ipython3",
   "version": "3.6.2"
  }
 },
 "nbformat": 4,
 "nbformat_minor": 2
}
