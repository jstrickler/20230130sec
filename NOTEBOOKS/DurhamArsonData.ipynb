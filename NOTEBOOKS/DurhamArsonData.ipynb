{
 "cells": [
  {
   "cell_type": "markdown",
   "metadata": {},
   "source": [
    "# Mapping Arsons in Durham\n",
    "\n",
    "Durham County, NC, makes its crime data available as part of the city's OpenData initiative. This notebook describes how to download and use some of this data to find arson occurrences near my house"
   ]
  },
  {
   "cell_type": "markdown",
   "metadata": {},
   "source": [
    "## Importing the tools\n",
    "\n",
    "We will need several Python modules for this task:\n"
   ]
  },
  {
   "cell_type": "code",
   "execution_count": 61,
   "metadata": {
    "collapsed": true
   },
   "outputs": [],
   "source": [
    "import pandas as pd\n",
    "from datetime import date\n",
    "from matplotlib import pyplot as plt\n",
    "from mpl_toolkits.basemap import Basemap\n"
   ]
  },
  {
   "cell_type": "markdown",
   "metadata": {},
   "source": [
    "## Getting the data\n",
    "\n",
    "I have already downloaded the basic data as a CSV file."
   ]
  },
  {
   "cell_type": "code",
   "execution_count": 62,
   "metadata": {
    "collapsed": true
   },
   "outputs": [],
   "source": [
    "datafile = \"durham-police-crime-reports.csv\""
   ]
  },
  {
   "cell_type": "markdown",
   "metadata": {},
   "source": [
    "I can read the data in with Pandas. This will create a _dataframe_.\n",
    "\n",
    "I'm using the read_csv() method. It takes a large number of keyword options. I'll describe the ones I'm using:\n",
    "\n",
    "    header=0    column headers are in the first line\n",
    "    sep=';'     fields are separated by ';'\n",
    "    index_col=2 use the second column as the row index\n",
    "    parse_dates[3,7,10,17,18,19]\n",
    "                convert these columns into date objects\n",
    "    use_cols=[...]\n",
    "                \n",
    "We don't need all the columns, so we only get the ones we need. This will save a ton of memory. \n",
    "\n",
    "_One of the advantages of Jupyter, vs running a separate script, is that I don't have to reload the 50MB of data every time I want to make a small change in how I'm using the data_"
   ]
  },
  {
   "cell_type": "code",
   "execution_count": 63,
   "metadata": {},
   "outputs": [
    {
     "name": "stdout",
     "output_type": "stream",
     "text": [
      "Index(['Geo Point', 'DATE_OCCU', 'CHRGDESC'], dtype='object')\n"
     ]
    }
   ],
   "source": [
    "df = pd.read_csv(\"durham-police-crime-reports.csv\",\n",
    "                 usecols=[0, 2, 7, 15],\n",
    "                 header=0, sep=';', index_col=1,\n",
    "                 parse_dates=[1])\n",
    "\n",
    "print(df.columns)"
   ]
  },
  {
   "cell_type": "markdown",
   "metadata": {},
   "source": [
    "I can get the number of records in the dataframe"
   ]
  },
  {
   "cell_type": "code",
   "execution_count": 64,
   "metadata": {},
   "outputs": [
    {
     "name": "stdout",
     "output_type": "stream",
     "text": [
      "116946\n"
     ]
    }
   ],
   "source": [
    "print(len(df))\n"
   ]
  },
  {
   "cell_type": "markdown",
   "metadata": {},
   "source": [
    "I can print the column indices"
   ]
  },
  {
   "cell_type": "code",
   "execution_count": 65,
   "metadata": {},
   "outputs": [
    {
     "name": "stdout",
     "output_type": "stream",
     "text": [
      "Index(['Geo Point', 'DATE_OCCU', 'CHRGDESC'], dtype='object')\n"
     ]
    }
   ],
   "source": [
    "print(df.columns)"
   ]
  },
  {
   "cell_type": "markdown",
   "metadata": {},
   "source": [
    "Or the row indices"
   ]
  },
  {
   "cell_type": "code",
   "execution_count": 66,
   "metadata": {
    "scrolled": true
   },
   "outputs": [
    {
     "name": "stdout",
     "output_type": "stream",
     "text": [
      "Int64Index([11000003, 11000069, 11000047, 11000042, 11000090, 11000026,\n",
      "            11000014, 15020064, 15020069, 15020072, \n",
      "            ...\n",
      "            15009727, 15009729, 15009749, 15009752, 15009780, 15009810,\n",
      "            15009795, 15009816, 15009819, 15009823],\n",
      "           dtype='int64', name='INCI_ID', length=116946)\n"
     ]
    }
   ],
   "source": [
    "print(df.index)"
   ]
  },
  {
   "cell_type": "markdown",
   "metadata": {},
   "source": [
    "I'm only interested in crimes on or after January 1, 2015"
   ]
  },
  {
   "cell_type": "code",
   "execution_count": 67,
   "metadata": {
    "collapsed": true
   },
   "outputs": [],
   "source": [
    "crimes_2015 = df[df['DATE_OCCU'] >= '2015-01-01']"
   ]
  },
  {
   "cell_type": "markdown",
   "metadata": {},
   "source": [
    "Let's look at the first row to see if we're on track:"
   ]
  },
  {
   "cell_type": "code",
   "execution_count": 68,
   "metadata": {},
   "outputs": [
    {
     "name": "stdout",
     "output_type": "stream",
     "text": [
      "Geo Point    35.9398002674, -78.8968435563\n",
      "DATE_OCCU        2015-05-27T20:00:00-04:00\n",
      "CHRGDESC             FRAUD - IMPERSONATION\n",
      "Name: 15020064, dtype: object\n"
     ]
    }
   ],
   "source": [
    "print(crimes_2015.iloc[0])"
   ]
  },
  {
   "cell_type": "markdown",
   "metadata": {},
   "source": [
    "Now we only want the arsons"
   ]
  },
  {
   "cell_type": "code",
   "execution_count": 69,
   "metadata": {},
   "outputs": [
    {
     "name": "stdout",
     "output_type": "stream",
     "text": [
      "28\n"
     ]
    }
   ],
   "source": [
    "arsons = crimes_2015[crimes_2015.CHRGDESC == 'ARSON']\n",
    "print(len(arsons))\n"
   ]
  },
  {
   "cell_type": "code",
   "execution_count": 70,
   "metadata": {
    "scrolled": false
   },
   "outputs": [
    {
     "name": "stdout",
     "output_type": "stream",
     "text": [
      "0     35.943571\n",
      "1     36.056275\n",
      "2     36.076475\n",
      "3     35.983451\n",
      "4     36.076248\n",
      "5     35.885440\n",
      "6     36.062965\n",
      "7     36.010890\n",
      "8     35.993909\n",
      "9     35.941658\n",
      "10    36.010873\n",
      "11    35.979421\n",
      "12    36.047766\n",
      "13    36.008462\n",
      "14    35.919957\n",
      "15    35.974028\n",
      "16    36.079178\n",
      "17    35.974028\n",
      "18    35.990829\n",
      "19    35.975125\n",
      "20    35.977335\n",
      "21    35.983451\n",
      "22    35.978522\n",
      "23    35.964627\n",
      "24    36.010890\n",
      "25    35.996845\n",
      "26    35.995547\n",
      "27    36.004578\n",
      "dtype: float64\n",
      "0    -78.917818\n",
      "1    -78.884244\n",
      "2    -78.908978\n",
      "3    -78.904418\n",
      "4    -78.910249\n",
      "5    -78.887407\n",
      "6    -78.917661\n",
      "7    -78.927820\n",
      "8    -78.853752\n",
      "9    -78.911315\n",
      "10   -78.881733\n",
      "11   -78.870213\n",
      "12   -78.927406\n",
      "13   -78.853214\n",
      "14   -78.957461\n",
      "15   -78.849155\n",
      "16   -78.923307\n",
      "17   -78.849155\n",
      "18   -78.908064\n",
      "19   -78.849604\n",
      "20   -78.930452\n",
      "21   -78.904418\n",
      "22   -78.874452\n",
      "23   -78.914600\n",
      "24   -78.927820\n",
      "25   -78.869402\n",
      "26   -78.879007\n",
      "27   -78.852054\n",
      "dtype: float64\n",
      "                              Geo Point                  DATE_OCCU CHRGDESC  \\\n",
      "INCI_ID                                                                       \n",
      "15018260  35.9435709876, -78.9178180191  2015-06-10T20:00:00-04:00    ARSON   \n",
      "15021213   36.056275292, -78.8842442744  2015-07-07T20:00:00-04:00    ARSON   \n",
      "15015669  36.0764751908, -78.9089784778  2015-05-19T20:00:00-04:00    ARSON   \n",
      "15017553  35.9834505475, -78.9044180441  2015-06-04T20:00:00-04:00    ARSON   \n",
      "15015670  36.0762484041, -78.9102493764  2015-05-19T20:00:00-04:00    ARSON   \n",
      "\n",
      "          Latitude  \n",
      "INCI_ID             \n",
      "15018260       NaN  \n",
      "15021213       NaN  \n",
      "15015669       NaN  \n",
      "15017553       NaN  \n",
      "15015670       NaN  \n"
     ]
    },
    {
     "name": "stderr",
     "output_type": "stream",
     "text": [
      "/Users/jstrick/.pyenv/versions/anaconda3-2.3.0/lib/python3.4/site-packages/ipykernel/__main__.py:4: SettingWithCopyWarning: \n",
      "A value is trying to be set on a copy of a slice from a DataFrame.\n",
      "Try using .loc[row_indexer,col_indexer] = value instead\n",
      "\n",
      "See the the caveats in the documentation: http://pandas.pydata.org/pandas-docs/stable/indexing.html#indexing-view-versus-copy\n"
     ]
    }
   ],
   "source": [
    "lat_lons = arsons['Geo Point'].apply(str.split, args=(', ',))\n",
    "lats = pd.Series(float(lat) for lat, lon in lat_lons)\n",
    "lons = pd.Series(float(lon) for lat, lon in lat_lons)\n",
    "arsons['Latitude'] = lats\n",
    "print(lats)\n",
    "print(lons)\n",
    "print(arsons.iloc[0:5])"
   ]
  },
  {
   "cell_type": "markdown",
   "metadata": {},
   "source": [
    "Now we know that there were 28 arsons from 1/1/2015 through the end of the data. The latitude and longitude of the occurrence are stored as a comma-separated stringn in the 'Geo Point' column. We need those as floats, so let's add 2 new columns from that data."
   ]
  },
  {
   "cell_type": "code",
   "execution_count": null,
   "metadata": {
    "collapsed": true
   },
   "outputs": [],
   "source": []
  },
  {
   "cell_type": "code",
   "execution_count": null,
   "metadata": {
    "collapsed": true
   },
   "outputs": [],
   "source": []
  },
  {
   "cell_type": "code",
   "execution_count": null,
   "metadata": {
    "collapsed": true
   },
   "outputs": [],
   "source": []
  }
 ],
 "metadata": {
  "kernelspec": {
   "display_name": "Python 3",
   "language": "python",
   "name": "python3"
  },
  "language_info": {
   "codemirror_mode": {
    "name": "ipython",
    "version": 3
   },
   "file_extension": ".py",
   "mimetype": "text/x-python",
   "name": "python",
   "nbconvert_exporter": "python",
   "pygments_lexer": "ipython3",
   "version": "3.7.1"
  }
 },
 "nbformat": 4,
 "nbformat_minor": 1
}
