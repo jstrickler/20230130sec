{
 "cells": [
  {
   "cell_type": "markdown",
   "metadata": {},
   "source": [
    "# Fun with Baby Names\n",
    "\n",
    "This notebook explores baby name data provided by the US Census. \n",
    "\n",
    "It contains the percentages of all names of the top 2000 names for each year from 1880 to 2008. In other words, the percentage describes what percentage of people have that name in that year. |\n",
    "\n",
    "The file has 285K records. Fields are __*year*__, __*name*__, __*percent*__, and __*sex*__.\n",
    "\n",
    "Once the data have been imported (easy to do with Pandas), I'll create an interactive widget for graphing the popularity of a particular name over the time period. \n"
   ]
  },
  {
   "cell_type": "markdown",
   "metadata": {},
   "source": [
    "## Import modules\n",
    "\n",
    "We'll start by importing all the modules we'll need."
   ]
  },
  {
   "cell_type": "code",
   "execution_count": 1,
   "metadata": {},
   "outputs": [],
   "source": [
    "# %load imports.py\n",
    "import pandas as pd\n",
    "import matplotlib.pyplot as plt\n",
    "from ipywidgets import interact_manual, interact\n",
    "import ipywidgets as widgets\n",
    "%matplotlib inline\n",
    "import seaborn as sns\n",
    "sns.set()"
   ]
  },
  {
   "cell_type": "markdown",
   "metadata": {},
   "source": [
    "## Read the data\n",
    "\n",
    "Use __Pandas__ to read the data from the source CSV file. We don't need to add any options; Pandas can read a CSV file and assume the first line contains column names."
   ]
  },
  {
   "cell_type": "code",
   "execution_count": 2,
   "metadata": {},
   "outputs": [],
   "source": [
    "df = pd.read_csv('../DATA/baby-names.csv')"
   ]
  },
  {
   "cell_type": "markdown",
   "metadata": {},
   "source": [
    "Get a quick look at the numeric columns"
   ]
  },
  {
   "cell_type": "code",
   "execution_count": 3,
   "metadata": {},
   "outputs": [
    {
     "data": {
      "text/html": [
       "<div>\n",
       "<style scoped>\n",
       "    .dataframe tbody tr th:only-of-type {\n",
       "        vertical-align: middle;\n",
       "    }\n",
       "\n",
       "    .dataframe tbody tr th {\n",
       "        vertical-align: top;\n",
       "    }\n",
       "\n",
       "    .dataframe thead th {\n",
       "        text-align: right;\n",
       "    }\n",
       "</style>\n",
       "<table border=\"1\" class=\"dataframe\">\n",
       "  <thead>\n",
       "    <tr style=\"text-align: right;\">\n",
       "      <th></th>\n",
       "      <th>year</th>\n",
       "      <th>percent</th>\n",
       "    </tr>\n",
       "  </thead>\n",
       "  <tbody>\n",
       "    <tr>\n",
       "      <th>count</th>\n",
       "      <td>258000.000000</td>\n",
       "      <td>258000.000000</td>\n",
       "    </tr>\n",
       "    <tr>\n",
       "      <th>mean</th>\n",
       "      <td>1944.000000</td>\n",
       "      <td>0.000894</td>\n",
       "    </tr>\n",
       "    <tr>\n",
       "      <th>std</th>\n",
       "      <td>37.238046</td>\n",
       "      <td>0.003016</td>\n",
       "    </tr>\n",
       "    <tr>\n",
       "      <th>min</th>\n",
       "      <td>1880.000000</td>\n",
       "      <td>0.000026</td>\n",
       "    </tr>\n",
       "    <tr>\n",
       "      <th>25%</th>\n",
       "      <td>1912.000000</td>\n",
       "      <td>0.000081</td>\n",
       "    </tr>\n",
       "    <tr>\n",
       "      <th>50%</th>\n",
       "      <td>1944.000000</td>\n",
       "      <td>0.000164</td>\n",
       "    </tr>\n",
       "    <tr>\n",
       "      <th>75%</th>\n",
       "      <td>1976.000000</td>\n",
       "      <td>0.000507</td>\n",
       "    </tr>\n",
       "    <tr>\n",
       "      <th>max</th>\n",
       "      <td>2008.000000</td>\n",
       "      <td>0.081541</td>\n",
       "    </tr>\n",
       "  </tbody>\n",
       "</table>\n",
       "</div>"
      ],
      "text/plain": [
       "                year        percent\n",
       "count  258000.000000  258000.000000\n",
       "mean     1944.000000       0.000894\n",
       "std        37.238046       0.003016\n",
       "min      1880.000000       0.000026\n",
       "25%      1912.000000       0.000081\n",
       "50%      1944.000000       0.000164\n",
       "75%      1976.000000       0.000507\n",
       "max      2008.000000       0.081541"
      ]
     },
     "execution_count": 3,
     "metadata": {},
     "output_type": "execute_result"
    }
   ],
   "source": [
    "df.describe()"
   ]
  },
  {
   "cell_type": "markdown",
   "metadata": {},
   "source": [
    "Let's count how many rows there are for each field. Apparently, we have the 2000 most popular names for each year from 1880 to 2008. "
   ]
  },
  {
   "cell_type": "code",
   "execution_count": 4,
   "metadata": {},
   "outputs": [
    {
     "data": {
      "text/plain": [
       "year\n",
       "1880    2000\n",
       "1881    2000\n",
       "1882    2000\n",
       "1883    2000\n",
       "1884    2000\n",
       "        ... \n",
       "2004    2000\n",
       "2005    2000\n",
       "2006    2000\n",
       "2007    2000\n",
       "2008    2000\n",
       "Length: 129, dtype: int64"
      ]
     },
     "execution_count": 4,
     "metadata": {},
     "output_type": "execute_result"
    }
   ],
   "source": [
    "df.value_counts('year').sort_index()"
   ]
  },
  {
   "cell_type": "markdown",
   "metadata": {},
   "source": [
    "We'll calculate the total memory used by the spreadsheet with the `info()` method. "
   ]
  },
  {
   "cell_type": "code",
   "execution_count": 5,
   "metadata": {},
   "outputs": [
    {
     "name": "stdout",
     "output_type": "stream",
     "text": [
      "<class 'pandas.core.frame.DataFrame'>\n",
      "RangeIndex: 258000 entries, 0 to 257999\n",
      "Data columns (total 4 columns):\n",
      " #   Column   Non-Null Count   Dtype  \n",
      "---  ------   --------------   -----  \n",
      " 0   year     258000 non-null  int64  \n",
      " 1   name     258000 non-null  object \n",
      " 2   percent  258000 non-null  float64\n",
      " 3   sex      258000 non-null  object \n",
      "dtypes: float64(1), int64(1), object(2)\n",
      "memory usage: 34.3 MB\n"
     ]
    }
   ],
   "source": [
    "df.info(memory_usage=\"deep\")"
   ]
  },
  {
   "cell_type": "markdown",
   "metadata": {},
   "source": [
    "## Saving memory\n",
    "Let's take a look at the \"Object\" (string) columns. This time .describe() tells us how many distinct values there are per column. _Cardinality_ refers to the number of distinct values in a data set. _Low cardinality_ means that there are few distinct values. "
   ]
  },
  {
   "cell_type": "code",
   "execution_count": 6,
   "metadata": {},
   "outputs": [
    {
     "data": {
      "text/html": [
       "<div>\n",
       "<style scoped>\n",
       "    .dataframe tbody tr th:only-of-type {\n",
       "        vertical-align: middle;\n",
       "    }\n",
       "\n",
       "    .dataframe tbody tr th {\n",
       "        vertical-align: top;\n",
       "    }\n",
       "\n",
       "    .dataframe thead th {\n",
       "        text-align: right;\n",
       "    }\n",
       "</style>\n",
       "<table border=\"1\" class=\"dataframe\">\n",
       "  <thead>\n",
       "    <tr style=\"text-align: right;\">\n",
       "      <th></th>\n",
       "      <th>name</th>\n",
       "      <th>sex</th>\n",
       "    </tr>\n",
       "  </thead>\n",
       "  <tbody>\n",
       "    <tr>\n",
       "      <th>count</th>\n",
       "      <td>258000</td>\n",
       "      <td>258000</td>\n",
       "    </tr>\n",
       "    <tr>\n",
       "      <th>unique</th>\n",
       "      <td>6782</td>\n",
       "      <td>2</td>\n",
       "    </tr>\n",
       "    <tr>\n",
       "      <th>top</th>\n",
       "      <td>Jessie</td>\n",
       "      <td>girl</td>\n",
       "    </tr>\n",
       "    <tr>\n",
       "      <th>freq</th>\n",
       "      <td>258</td>\n",
       "      <td>129000</td>\n",
       "    </tr>\n",
       "  </tbody>\n",
       "</table>\n",
       "</div>"
      ],
      "text/plain": [
       "          name     sex\n",
       "count   258000  258000\n",
       "unique    6782       2\n",
       "top     Jessie    girl\n",
       "freq       258  129000"
      ]
     },
     "execution_count": 6,
     "metadata": {},
     "output_type": "execute_result"
    }
   ],
   "source": [
    "df.describe(include='O')"
   ]
  },
  {
   "cell_type": "markdown",
   "metadata": {},
   "source": [
    "Let's read the data again, but this time, we'll mark the string columns as _categoricals_. This represents strings as very small integers, and saves a lot of memory. It is useful for columns with low cardinality.  For example, the 'sex' column only has two values, \"boy\" and \"girl\". Likewise, the 'name' field has relatively few values (6782/258000) for the number of rows. We can set the data type of these two columns as \"category\"."
   ]
  },
  {
   "cell_type": "code",
   "execution_count": 7,
   "metadata": {},
   "outputs": [],
   "source": [
    "df = pd.read_csv('../DATA/baby-names.csv', dtype={'sex': 'category', 'name': 'category'})"
   ]
  },
  {
   "cell_type": "markdown",
   "metadata": {},
   "source": [
    "And now we can see that memory usage has gone from 34.3 MB to 5.4 MB. "
   ]
  },
  {
   "cell_type": "code",
   "execution_count": 8,
   "metadata": {},
   "outputs": [
    {
     "name": "stdout",
     "output_type": "stream",
     "text": [
      "<class 'pandas.core.frame.DataFrame'>\n",
      "RangeIndex: 258000 entries, 0 to 257999\n",
      "Data columns (total 4 columns):\n",
      " #   Column   Non-Null Count   Dtype   \n",
      "---  ------   --------------   -----   \n",
      " 0   year     258000 non-null  int64   \n",
      " 1   name     258000 non-null  category\n",
      " 2   percent  258000 non-null  float64 \n",
      " 3   sex      258000 non-null  category\n",
      "dtypes: category(2), float64(1), int64(1)\n",
      "memory usage: 5.4 MB\n"
     ]
    }
   ],
   "source": [
    "df.info(memory_usage=\"deep\")"
   ]
  },
  {
   "cell_type": "markdown",
   "metadata": {},
   "source": [
    "Checking the dataframe, our data still looks the same. Categorical columns are presented with their original values. "
   ]
  },
  {
   "cell_type": "code",
   "execution_count": 9,
   "metadata": {},
   "outputs": [
    {
     "data": {
      "text/html": [
       "<div>\n",
       "<style scoped>\n",
       "    .dataframe tbody tr th:only-of-type {\n",
       "        vertical-align: middle;\n",
       "    }\n",
       "\n",
       "    .dataframe tbody tr th {\n",
       "        vertical-align: top;\n",
       "    }\n",
       "\n",
       "    .dataframe thead th {\n",
       "        text-align: right;\n",
       "    }\n",
       "</style>\n",
       "<table border=\"1\" class=\"dataframe\">\n",
       "  <thead>\n",
       "    <tr style=\"text-align: right;\">\n",
       "      <th></th>\n",
       "      <th>year</th>\n",
       "      <th>name</th>\n",
       "      <th>percent</th>\n",
       "      <th>sex</th>\n",
       "    </tr>\n",
       "  </thead>\n",
       "  <tbody>\n",
       "    <tr>\n",
       "      <th>0</th>\n",
       "      <td>1880</td>\n",
       "      <td>John</td>\n",
       "      <td>0.081541</td>\n",
       "      <td>boy</td>\n",
       "    </tr>\n",
       "    <tr>\n",
       "      <th>1</th>\n",
       "      <td>1880</td>\n",
       "      <td>William</td>\n",
       "      <td>0.080511</td>\n",
       "      <td>boy</td>\n",
       "    </tr>\n",
       "    <tr>\n",
       "      <th>2</th>\n",
       "      <td>1880</td>\n",
       "      <td>James</td>\n",
       "      <td>0.050057</td>\n",
       "      <td>boy</td>\n",
       "    </tr>\n",
       "    <tr>\n",
       "      <th>3</th>\n",
       "      <td>1880</td>\n",
       "      <td>Charles</td>\n",
       "      <td>0.045167</td>\n",
       "      <td>boy</td>\n",
       "    </tr>\n",
       "    <tr>\n",
       "      <th>4</th>\n",
       "      <td>1880</td>\n",
       "      <td>George</td>\n",
       "      <td>0.043292</td>\n",
       "      <td>boy</td>\n",
       "    </tr>\n",
       "  </tbody>\n",
       "</table>\n",
       "</div>"
      ],
      "text/plain": [
       "   year     name   percent  sex\n",
       "0  1880     John  0.081541  boy\n",
       "1  1880  William  0.080511  boy\n",
       "2  1880    James  0.050057  boy\n",
       "3  1880  Charles  0.045167  boy\n",
       "4  1880   George  0.043292  boy"
      ]
     },
     "execution_count": 9,
     "metadata": {},
     "output_type": "execute_result"
    }
   ],
   "source": [
    "df.head()"
   ]
  },
  {
   "cell_type": "markdown",
   "metadata": {},
   "source": [
    "## Plotting name data\n",
    "\n",
    "We can plot the popularity of a given name across all years. Pandas uses matplotlib behind the scenes to do the plotting. To get the data for plotting, we select all rows from the database with a specified name and sex. Then, we plot the 'year' column against the 'percent' column."
   ]
  },
  {
   "cell_type": "code",
   "execution_count": 10,
   "metadata": {},
   "outputs": [
    {
     "data": {
      "image/png": "[encoded data removed]",
      "text/plain": [
       "<Figure size 432x288 with 1 Axes>"
      ]
     },
     "metadata": {},
     "output_type": "display_data"
    }
   ],
   "source": [
    "name = \"William\"\n",
    "sex = \"boy\"\n",
    "df_name = df[(df.name == name) & (df.sex == sex)]\n",
    "df_name.plot('year', 'percent', xlabel='year', ylabel='percentage', title=name)\n",
    "plt.savefig(name + \".png\")\n",
    "\n"
   ]
  },
  {
   "cell_type": "markdown",
   "metadata": {},
   "source": [
    "### Adding widgets\n",
    "To make it easy to plot different names, we can add some widgets to the plot. To do this, we'll use the __ipywidgets__ package, and import the __widgets__ module.\n",
    "\n",
    "First we create a set of radio buttons, to make it easy to choose \"boy\" or \"girl\". \n",
    "\n",
    "Then we write a function to do the actual plot. The arguments to the function are __name__ and __sex__, corresponding to those columns in the dataframe. We use the _xlim_ and _ylim_ arguments to keep the X and Y scales the same for all plots. Otherwise the data will be scaled for each plot and high values will be difficult to tell from low values. \n",
    "\n",
    "To make our plot interactive, we call __interact_manual.options(manual_name=\"Plot\")__ to create an interactive object. It will have a button to create the plot on demand. The \"manual_name\" argument is for the label on the button. \n",
    "\n",
    "When we call our interactive object, the first argument is the function to call when the button is pushed. The other arguments correspond to input widgets. The type of widget depends on what is passed. A string creates a text entry blank. As mentioned above, you can also create check boxes, radio buttons, and many other widgets. \n",
    "\n",
    "When the button is pressed, it copies the data from the input widgets and passes it to the function, which then plots the data.\n",
    "\n",
    "NOTE: There are several variants of the __interact__ functionality.\n",
    "\n",
    "\n",
    "\n"
   ]
  },
  {
   "cell_type": "code",
   "execution_count": null,
   "metadata": {},
   "outputs": [],
   "source": [
    "# define radio buttons for boy/girl\n",
    "import time\n",
    "rb = widgets.RadioButtons(\n",
    "    options=['boy', 'girl'], value = 'boy',\n",
    ")"
   ]
  },
  {
   "cell_type": "code",
   "execution_count": 11,
   "metadata": {},
   "outputs": [
    {
     "data": {
      "application/vnd.jupyter.widget-view+json": {
       "model_id": "b5ef4a1bd8e54d1a916dddbc196e9ebd",
       "version_major": 2,
       "version_minor": 0
      },
      "text/plain": [
       "interactive(children=(Text(value='', description='name'), RadioButtons(description='sex', options=('boy', 'gir…"
      ]
     },
     "metadata": {},
     "output_type": "display_data"
    },
    {
     "data": {
      "text/plain": [
       "<function __main__.plot_name(name, sex)>"
      ]
     },
     "execution_count": 11,
     "metadata": {},
     "output_type": "execute_result"
    },
    {
     "data": {
      "image/png": "[encoded data removed]",
      "text/plain": [
       "<Figure size 432x288 with 1 Axes>"
      ]
     },
     "metadata": {},
     "output_type": "display_data"
    },
    {
     "data": {
      "image/png": "[encoded data removed]",
      "text/plain": [
       "<Figure size 432x288 with 1 Axes>"
      ]
     },
     "metadata": {},
     "output_type": "display_data"
    }
   ],
   "source": [
    "def plot_name(name, sex):\n",
    "    title = f\"{name} ({sex})\"\n",
    "    df_name = df[(df.name == name) & (df.sex == sex)]\n",
    "    df_name.plot('year', 'percent',\n",
    "                 title = title, xlabel='year', ylabel='percentage', ylim=(0, .08), xlim=(1880, 2020))\n",
    "    \n",
    "\n",
    "    \n",
    "im = interact_manual.options(manual_name=\"Plot\")\n",
    "im(plot_name, name=\"\", sex=rb)"
   ]
  },
  {
   "cell_type": "markdown",
   "metadata": {},
   "source": [
    "### Plotting to the same figure\n",
    "The widgets are great, but each plot creates a new figure. Let's use the `output` feature of ipywidgets to clear the figure each time. We create an *Output* object, and then our output goes to it. Each time we push the Plot button, it calls our function as before, but now we call *out.clear_output()* to delete the previous plot, and then *plt.show()* to display it. "
   ]
  },
  {
   "cell_type": "code",
   "execution_count": 22,
   "metadata": {},
   "outputs": [
    {
     "data": {
      "application/vnd.jupyter.widget-view+json": {
       "model_id": "03a39a57d8824638858f4b227cc3579f",
       "version_major": 2,
       "version_minor": 0
      },
      "text/plain": [
       "interactive(children=(Text(value='', description='name'), RadioButtons(description='sex', options=('boy', 'gir…"
      ]
     },
     "metadata": {},
     "output_type": "display_data"
    },
    {
     "data": {
      "application/vnd.jupyter.widget-view+json": {
       "model_id": "9187c086acd541e09d13489f4dc0ca1a",
       "version_major": 2,
       "version_minor": 0
      },
      "text/plain": [
       "Output(layout=Layout(height='50px'))"
      ]
     },
     "metadata": {},
     "output_type": "display_data"
    }
   ],
   "source": [
    "out = widgets.Output(layout = widgets.Layout(height='50\n",
    "                                             \n",
    "                                             \n",
    "                                             px'))\n",
    "def plot_name(name, sex):\n",
    "    title = f\"{name} ({sex})\"\n",
    "    df_name = df[(df.name == name) & (df.sex == sex)]\n",
    "    df_name.plot('year', 'percent',\n",
    "                 title = title, xlabel='year', ylabel='percentage', ylim=(0, .08), xlim=(1880, 2020))\n",
    "    out.clear_output()  # clear the previous plot\n",
    "    plt.show()\n",
    "\n",
    "im = interact_manual.options(manual_name=\"Plot\")\n",
    "im(plot_name, name=\"\", sex=rb)\n",
    "display(out)  # send output to the output object"
   ]
  },
  {
   "cell_type": "markdown",
   "metadata": {},
   "source": [
    "### FInding popular names\n",
    "To determine the most popular name in all years, we can find the row where the percent matches the maximum value for the *percent* column. Only one name and year matches. "
   ]
  },
  {
   "cell_type": "code",
   "execution_count": 13,
   "metadata": {},
   "outputs": [
    {
     "data": {
      "text/html": [
       "<div>\n",
       "<style scoped>\n",
       "    .dataframe tbody tr th:only-of-type {\n",
       "        vertical-align: middle;\n",
       "    }\n",
       "\n",
       "    .dataframe tbody tr th {\n",
       "        vertical-align: top;\n",
       "    }\n",
       "\n",
       "    .dataframe thead th {\n",
       "        text-align: right;\n",
       "    }\n",
       "</style>\n",
       "<table border=\"1\" class=\"dataframe\">\n",
       "  <thead>\n",
       "    <tr style=\"text-align: right;\">\n",
       "      <th></th>\n",
       "      <th>year</th>\n",
       "      <th>name</th>\n",
       "      <th>percent</th>\n",
       "      <th>sex</th>\n",
       "    </tr>\n",
       "  </thead>\n",
       "  <tbody>\n",
       "    <tr>\n",
       "      <th>0</th>\n",
       "      <td>1880</td>\n",
       "      <td>John</td>\n",
       "      <td>0.081541</td>\n",
       "      <td>boy</td>\n",
       "    </tr>\n",
       "  </tbody>\n",
       "</table>\n",
       "</div>"
      ],
      "text/plain": [
       "   year  name   percent  sex\n",
       "0  1880  John  0.081541  boy"
      ]
     },
     "execution_count": 13,
     "metadata": {},
     "output_type": "execute_result"
    }
   ],
   "source": [
    "df[df.percent == df.percent.max()]"
   ]
  },
  {
   "cell_type": "markdown",
   "metadata": {},
   "source": [
    "### Finding unpopular names\n",
    "Likewise, we can find the names that are the least popular names across all years."
   ]
  },
  {
   "cell_type": "code",
   "execution_count": 14,
   "metadata": {},
   "outputs": [
    {
     "data": {
      "text/html": [
       "<div>\n",
       "<style scoped>\n",
       "    .dataframe tbody tr th:only-of-type {\n",
       "        vertical-align: middle;\n",
       "    }\n",
       "\n",
       "    .dataframe tbody tr th {\n",
       "        vertical-align: top;\n",
       "    }\n",
       "\n",
       "    .dataframe thead th {\n",
       "        text-align: right;\n",
       "    }\n",
       "</style>\n",
       "<table border=\"1\" class=\"dataframe\">\n",
       "  <thead>\n",
       "    <tr style=\"text-align: right;\">\n",
       "      <th></th>\n",
       "      <th>year</th>\n",
       "      <th>name</th>\n",
       "      <th>percent</th>\n",
       "      <th>sex</th>\n",
       "    </tr>\n",
       "  </thead>\n",
       "  <tbody>\n",
       "    <tr>\n",
       "      <th>71993</th>\n",
       "      <td>1951</td>\n",
       "      <td>Bernardo</td>\n",
       "      <td>0.000026</td>\n",
       "      <td>boy</td>\n",
       "    </tr>\n",
       "    <tr>\n",
       "      <th>71994</th>\n",
       "      <td>1951</td>\n",
       "      <td>Cal</td>\n",
       "      <td>0.000026</td>\n",
       "      <td>boy</td>\n",
       "    </tr>\n",
       "    <tr>\n",
       "      <th>71995</th>\n",
       "      <td>1951</td>\n",
       "      <td>Cesar</td>\n",
       "      <td>0.000026</td>\n",
       "      <td>boy</td>\n",
       "    </tr>\n",
       "    <tr>\n",
       "      <th>71996</th>\n",
       "      <td>1951</td>\n",
       "      <td>Cole</td>\n",
       "      <td>0.000026</td>\n",
       "      <td>boy</td>\n",
       "    </tr>\n",
       "    <tr>\n",
       "      <th>71997</th>\n",
       "      <td>1951</td>\n",
       "      <td>Donal</td>\n",
       "      <td>0.000026</td>\n",
       "      <td>boy</td>\n",
       "    </tr>\n",
       "    <tr>\n",
       "      <th>71998</th>\n",
       "      <td>1951</td>\n",
       "      <td>Duke</td>\n",
       "      <td>0.000026</td>\n",
       "      <td>boy</td>\n",
       "    </tr>\n",
       "    <tr>\n",
       "      <th>71999</th>\n",
       "      <td>1951</td>\n",
       "      <td>Edsel</td>\n",
       "      <td>0.000026</td>\n",
       "      <td>boy</td>\n",
       "    </tr>\n",
       "    <tr>\n",
       "      <th>72993</th>\n",
       "      <td>1952</td>\n",
       "      <td>Brock</td>\n",
       "      <td>0.000026</td>\n",
       "      <td>boy</td>\n",
       "    </tr>\n",
       "    <tr>\n",
       "      <th>72994</th>\n",
       "      <td>1952</td>\n",
       "      <td>Glendon</td>\n",
       "      <td>0.000026</td>\n",
       "      <td>boy</td>\n",
       "    </tr>\n",
       "    <tr>\n",
       "      <th>72995</th>\n",
       "      <td>1952</td>\n",
       "      <td>Michale</td>\n",
       "      <td>0.000026</td>\n",
       "      <td>boy</td>\n",
       "    </tr>\n",
       "    <tr>\n",
       "      <th>72996</th>\n",
       "      <td>1952</td>\n",
       "      <td>Quincy</td>\n",
       "      <td>0.000026</td>\n",
       "      <td>boy</td>\n",
       "    </tr>\n",
       "    <tr>\n",
       "      <th>72997</th>\n",
       "      <td>1952</td>\n",
       "      <td>Wilfredo</td>\n",
       "      <td>0.000026</td>\n",
       "      <td>boy</td>\n",
       "    </tr>\n",
       "    <tr>\n",
       "      <th>72998</th>\n",
       "      <td>1952</td>\n",
       "      <td>Wyman</td>\n",
       "      <td>0.000026</td>\n",
       "      <td>boy</td>\n",
       "    </tr>\n",
       "    <tr>\n",
       "      <th>72999</th>\n",
       "      <td>1952</td>\n",
       "      <td>Arlin</td>\n",
       "      <td>0.000026</td>\n",
       "      <td>boy</td>\n",
       "    </tr>\n",
       "    <tr>\n",
       "      <th>73995</th>\n",
       "      <td>1953</td>\n",
       "      <td>Alvaro</td>\n",
       "      <td>0.000026</td>\n",
       "      <td>boy</td>\n",
       "    </tr>\n",
       "    <tr>\n",
       "      <th>73996</th>\n",
       "      <td>1953</td>\n",
       "      <td>Antone</td>\n",
       "      <td>0.000026</td>\n",
       "      <td>boy</td>\n",
       "    </tr>\n",
       "    <tr>\n",
       "      <th>73997</th>\n",
       "      <td>1953</td>\n",
       "      <td>Bernardo</td>\n",
       "      <td>0.000026</td>\n",
       "      <td>boy</td>\n",
       "    </tr>\n",
       "    <tr>\n",
       "      <th>73998</th>\n",
       "      <td>1953</td>\n",
       "      <td>Caesar</td>\n",
       "      <td>0.000026</td>\n",
       "      <td>boy</td>\n",
       "    </tr>\n",
       "    <tr>\n",
       "      <th>73999</th>\n",
       "      <td>1953</td>\n",
       "      <td>Damian</td>\n",
       "      <td>0.000026</td>\n",
       "      <td>boy</td>\n",
       "    </tr>\n",
       "    <tr>\n",
       "      <th>76998</th>\n",
       "      <td>1956</td>\n",
       "      <td>Aron</td>\n",
       "      <td>0.000026</td>\n",
       "      <td>boy</td>\n",
       "    </tr>\n",
       "    <tr>\n",
       "      <th>76999</th>\n",
       "      <td>1956</td>\n",
       "      <td>Darcy</td>\n",
       "      <td>0.000026</td>\n",
       "      <td>boy</td>\n",
       "    </tr>\n",
       "    <tr>\n",
       "      <th>77999</th>\n",
       "      <td>1957</td>\n",
       "      <td>Cordell</td>\n",
       "      <td>0.000026</td>\n",
       "      <td>boy</td>\n",
       "    </tr>\n",
       "  </tbody>\n",
       "</table>\n",
       "</div>"
      ],
      "text/plain": [
       "       year      name   percent  sex\n",
       "71993  1951  Bernardo  0.000026  boy\n",
       "71994  1951       Cal  0.000026  boy\n",
       "71995  1951     Cesar  0.000026  boy\n",
       "71996  1951      Cole  0.000026  boy\n",
       "71997  1951     Donal  0.000026  boy\n",
       "71998  1951      Duke  0.000026  boy\n",
       "71999  1951     Edsel  0.000026  boy\n",
       "72993  1952     Brock  0.000026  boy\n",
       "72994  1952   Glendon  0.000026  boy\n",
       "72995  1952   Michale  0.000026  boy\n",
       "72996  1952    Quincy  0.000026  boy\n",
       "72997  1952  Wilfredo  0.000026  boy\n",
       "72998  1952     Wyman  0.000026  boy\n",
       "72999  1952     Arlin  0.000026  boy\n",
       "73995  1953    Alvaro  0.000026  boy\n",
       "73996  1953    Antone  0.000026  boy\n",
       "73997  1953  Bernardo  0.000026  boy\n",
       "73998  1953    Caesar  0.000026  boy\n",
       "73999  1953    Damian  0.000026  boy\n",
       "76998  1956      Aron  0.000026  boy\n",
       "76999  1956     Darcy  0.000026  boy\n",
       "77999  1957   Cordell  0.000026  boy"
      ]
     },
     "execution_count": 14,
     "metadata": {},
     "output_type": "execute_result"
    }
   ],
   "source": [
    "df[df.percent == df.percent.min()]"
   ]
  },
  {
   "cell_type": "markdown",
   "metadata": {},
   "source": [
    "## Name length trends\n",
    "We can look at the trend of name length. What is the average length of a name for each year? Let's group the dataset by year, then within each year we can calculate the length of the 'name' column. Then we can calculate the average, minimum, and maximum length of name for that year, by gender.\n",
    "\n",
    "Turns out that over 130 or so years, names have varied from 2 to 11 characters long, with no significant changes in mean length. "
   ]
  },
  {
   "cell_type": "code",
   "execution_count": 15,
   "metadata": {},
   "outputs": [
    {
     "data": {
      "text/plain": [
       "(1.0, 16.0)"
      ]
     },
     "execution_count": 15,
     "metadata": {},
     "output_type": "execute_result"
    },
    {
     "data": {
      "image/png": "[encoded data removed]",
      "text/plain": [
       "<Figure size 432x288 with 1 Axes>"
      ]
     },
     "metadata": {},
     "output_type": "display_data"
    }
   ],
   "source": [
    "dy = df.groupby(\"year\")\n",
    "    \n",
    "df_lengths = pd.DataFrame(\n",
    "    (\n",
    "        (\n",
    "            year, \n",
    "            data['name'].str.len().mean(),\n",
    "            data['name'].str.len().median(),\n",
    "            data['name'].str.len().min(),\n",
    "            data['name'].str.len().max(),\n",
    "        ) for year, data in dy\n",
    "    ), \n",
    "    columns=['year', 'mean', 'median', 'min', 'max']\n",
    ")\n",
    "\n",
    "plt.plot(df_lengths['year'], df_lengths['min'], label=\"shortest\")\n",
    "plt.plot(df_lengths['year'], df_lengths['mean'], label=\"mean\")\n",
    "plt.plot(df_lengths['year'], df_lengths['median'], label=\"median\")\n",
    "plt.plot(df_lengths['year'], df_lengths['max'], label=\"longest\")\n",
    "plt.legend(loc=\"upper center\")\n",
    "plt.ylim(1,16)\n",
    "\n",
    "\n"
   ]
  },
  {
   "cell_type": "code",
   "execution_count": 16,
   "metadata": {},
   "outputs": [
    {
     "data": {
      "text/plain": [
       "<seaborn.axisgrid.FacetGrid at 0x7fddd0a29e10>"
      ]
     },
     "execution_count": 16,
     "metadata": {},
     "output_type": "execute_result"
    },
    {
     "data": {
      "image/png": "[encoded data removed]",
      "text/plain": [
       "<Figure size 360x360 with 1 Axes>"
      ]
     },
     "metadata": {},
     "output_type": "display_data"
    }
   ],
   "source": [
    "sns.relplot(x='year', y='mean', data=df_lengths)\n"
   ]
  },
  {
   "cell_type": "code",
   "execution_count": null,
   "metadata": {},
   "outputs": [],
   "source": []
  }
 ],
 "metadata": {
  "kernelspec": {
   "display_name": "Python 3",
   "language": "python",
   "name": "python3"
  },
  "language_info": {
   "codemirror_mode": {
    "name": "ipython",
    "version": 3
   },
   "file_extension": ".py",
   "mimetype": "text/x-python",
   "name": "python",
   "nbconvert_exporter": "python",
   "pygments_lexer": "ipython3",
   "version": "3.7.6"
  }
 },
 "nbformat": 4,
 "nbformat_minor": 4
}
