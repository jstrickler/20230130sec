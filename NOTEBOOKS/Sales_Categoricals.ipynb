{
 "cells": [
  {
   "cell_type": "code",
   "execution_count": 1,
   "metadata": {},
   "outputs": [],
   "source": [
    "# %load imports\n",
    "import numpy as np\n",
    "import scipy as sp\n",
    "import pandas as pd\n",
    "import matplotlib.pyplot as plt\n",
    "import matplotlib as mpl\n",
    "%matplotlib inline\n",
    "# import seaborn as sns\n",
    "# sns.set()\n",
    "\n"
   ]
  },
  {
   "cell_type": "code",
   "execution_count": 2,
   "metadata": {},
   "outputs": [],
   "source": [
    "names = 'region country item_type channel priority ordered id shipped sold price cost'.split()"
   ]
  },
  {
   "cell_type": "code",
   "execution_count": 3,
   "metadata": {},
   "outputs": [
    {
     "data": {
      "text/html": [
       "<div>\n",
       "<style scoped>\n",
       "    .dataframe tbody tr th:only-of-type {\n",
       "        vertical-align: middle;\n",
       "    }\n",
       "\n",
       "    .dataframe tbody tr th {\n",
       "        vertical-align: top;\n",
       "    }\n",
       "\n",
       "    .dataframe thead th {\n",
       "        text-align: right;\n",
       "    }\n",
       "</style>\n",
       "<table border=\"1\" class=\"dataframe\">\n",
       "  <thead>\n",
       "    <tr style=\"text-align: right;\">\n",
       "      <th></th>\n",
       "      <th>region</th>\n",
       "      <th>country</th>\n",
       "      <th>item_type</th>\n",
       "      <th>channel</th>\n",
       "      <th>priority</th>\n",
       "      <th>ordered</th>\n",
       "      <th>id</th>\n",
       "      <th>shipped</th>\n",
       "      <th>sold</th>\n",
       "      <th>price</th>\n",
       "      <th>cost</th>\n",
       "    </tr>\n",
       "  </thead>\n",
       "  <tbody>\n",
       "    <tr>\n",
       "      <th>0</th>\n",
       "      <td>Central America and the Caribbean</td>\n",
       "      <td>Antigua and Barbuda</td>\n",
       "      <td>Baby Food</td>\n",
       "      <td>Online</td>\n",
       "      <td>M</td>\n",
       "      <td>12/20/2013</td>\n",
       "      <td>957081544</td>\n",
       "      <td>2014-01-11</td>\n",
       "      <td>552</td>\n",
       "      <td>255.28</td>\n",
       "      <td>159.42</td>\n",
       "    </tr>\n",
       "    <tr>\n",
       "      <th>1</th>\n",
       "      <td>Central America and the Caribbean</td>\n",
       "      <td>Panama</td>\n",
       "      <td>Snacks</td>\n",
       "      <td>Offline</td>\n",
       "      <td>C</td>\n",
       "      <td>7/5/2010</td>\n",
       "      <td>301644504</td>\n",
       "      <td>2010-07-26</td>\n",
       "      <td>2167</td>\n",
       "      <td>152.58</td>\n",
       "      <td>97.44</td>\n",
       "    </tr>\n",
       "    <tr>\n",
       "      <th>2</th>\n",
       "      <td>Europe</td>\n",
       "      <td>Czech Republic</td>\n",
       "      <td>Beverages</td>\n",
       "      <td>Offline</td>\n",
       "      <td>C</td>\n",
       "      <td>9/12/2011</td>\n",
       "      <td>478051030</td>\n",
       "      <td>2011-09-29</td>\n",
       "      <td>4778</td>\n",
       "      <td>47.45</td>\n",
       "      <td>31.79</td>\n",
       "    </tr>\n",
       "    <tr>\n",
       "      <th>3</th>\n",
       "      <td>Asia</td>\n",
       "      <td>North Korea</td>\n",
       "      <td>Cereal</td>\n",
       "      <td>Offline</td>\n",
       "      <td>L</td>\n",
       "      <td>5/13/2010</td>\n",
       "      <td>892599952</td>\n",
       "      <td>2010-06-15</td>\n",
       "      <td>9016</td>\n",
       "      <td>205.70</td>\n",
       "      <td>117.11</td>\n",
       "    </tr>\n",
       "    <tr>\n",
       "      <th>4</th>\n",
       "      <td>Asia</td>\n",
       "      <td>Sri Lanka</td>\n",
       "      <td>Snacks</td>\n",
       "      <td>Offline</td>\n",
       "      <td>C</td>\n",
       "      <td>7/20/2015</td>\n",
       "      <td>571902596</td>\n",
       "      <td>2015-07-27</td>\n",
       "      <td>7542</td>\n",
       "      <td>152.58</td>\n",
       "      <td>97.44</td>\n",
       "    </tr>\n",
       "  </tbody>\n",
       "</table>\n",
       "</div>"
      ],
      "text/plain": [
       "                              region               country  item_type  \\\n",
       "0  Central America and the Caribbean  Antigua and Barbuda   Baby Food   \n",
       "1  Central America and the Caribbean                Panama     Snacks   \n",
       "2                             Europe        Czech Republic  Beverages   \n",
       "3                               Asia           North Korea     Cereal   \n",
       "4                               Asia             Sri Lanka     Snacks   \n",
       "\n",
       "   channel priority     ordered         id    shipped  sold   price    cost  \n",
       "0   Online        M  12/20/2013  957081544 2014-01-11   552  255.28  159.42  \n",
       "1  Offline        C    7/5/2010  301644504 2010-07-26  2167  152.58   97.44  \n",
       "2  Offline        C   9/12/2011  478051030 2011-09-29  4778   47.45   31.79  \n",
       "3  Offline        L   5/13/2010  892599952 2010-06-15  9016  205.70  117.11  \n",
       "4  Offline        C   7/20/2015  571902596 2015-07-27  7542  152.58   97.44  "
      ]
     },
     "execution_count": 3,
     "metadata": {},
     "output_type": "execute_result"
    }
   ],
   "source": [
    "df = pd.read_csv('../DATA/sales_records.csv', names=names, skiprows=1, parse_dates=[4,7])\n",
    "df.head()"
   ]
  },
  {
   "cell_type": "code",
   "execution_count": 4,
   "metadata": {},
   "outputs": [
    {
     "name": "stdout",
     "output_type": "stream",
     "text": [
      "<class 'pandas.core.frame.DataFrame'>\n",
      "RangeIndex: 5000 entries, 0 to 4999\n",
      "Data columns (total 11 columns):\n",
      " #   Column     Non-Null Count  Dtype         \n",
      "---  ------     --------------  -----         \n",
      " 0   region     5000 non-null   object        \n",
      " 1   country    5000 non-null   object        \n",
      " 2   item_type  5000 non-null   object        \n",
      " 3   channel    5000 non-null   object        \n",
      " 4   priority   5000 non-null   object        \n",
      " 5   ordered    5000 non-null   object        \n",
      " 6   id         5000 non-null   int64         \n",
      " 7   shipped    5000 non-null   datetime64[ns]\n",
      " 8   sold       5000 non-null   int64         \n",
      " 9   price      5000 non-null   float64       \n",
      " 10  cost       5000 non-null   float64       \n",
      "dtypes: datetime64[ns](1), float64(2), int64(2), object(6)\n",
      "memory usage: 2.1 MB\n"
     ]
    }
   ],
   "source": [
    "df.info(memory_usage='deep')"
   ]
  },
  {
   "cell_type": "code",
   "execution_count": 5,
   "metadata": {},
   "outputs": [
    {
     "data": {
      "text/html": [
       "<div>\n",
       "<style scoped>\n",
       "    .dataframe tbody tr th:only-of-type {\n",
       "        vertical-align: middle;\n",
       "    }\n",
       "\n",
       "    .dataframe tbody tr th {\n",
       "        vertical-align: top;\n",
       "    }\n",
       "\n",
       "    .dataframe thead th {\n",
       "        text-align: right;\n",
       "    }\n",
       "</style>\n",
       "<table border=\"1\" class=\"dataframe\">\n",
       "  <thead>\n",
       "    <tr style=\"text-align: right;\">\n",
       "      <th></th>\n",
       "      <th>region</th>\n",
       "      <th>country</th>\n",
       "      <th>item_type</th>\n",
       "      <th>channel</th>\n",
       "      <th>priority</th>\n",
       "      <th>ordered</th>\n",
       "    </tr>\n",
       "  </thead>\n",
       "  <tbody>\n",
       "    <tr>\n",
       "      <th>count</th>\n",
       "      <td>5000</td>\n",
       "      <td>5000</td>\n",
       "      <td>5000</td>\n",
       "      <td>5000</td>\n",
       "      <td>5000</td>\n",
       "      <td>5000</td>\n",
       "    </tr>\n",
       "    <tr>\n",
       "      <th>unique</th>\n",
       "      <td>7</td>\n",
       "      <td>185</td>\n",
       "      <td>12</td>\n",
       "      <td>2</td>\n",
       "      <td>4</td>\n",
       "      <td>2305</td>\n",
       "    </tr>\n",
       "    <tr>\n",
       "      <th>top</th>\n",
       "      <td>Europe</td>\n",
       "      <td>San Marino</td>\n",
       "      <td>Fruits</td>\n",
       "      <td>Offline</td>\n",
       "      <td>M</td>\n",
       "      <td>6/26/2010</td>\n",
       "    </tr>\n",
       "    <tr>\n",
       "      <th>freq</th>\n",
       "      <td>1330</td>\n",
       "      <td>40</td>\n",
       "      <td>447</td>\n",
       "      <td>2504</td>\n",
       "      <td>1321</td>\n",
       "      <td>7</td>\n",
       "    </tr>\n",
       "  </tbody>\n",
       "</table>\n",
       "</div>"
      ],
      "text/plain": [
       "        region     country item_type  channel priority    ordered\n",
       "count     5000        5000      5000     5000     5000       5000\n",
       "unique       7         185        12        2        4       2305\n",
       "top     Europe  San Marino    Fruits  Offline        M  6/26/2010\n",
       "freq      1330          40       447     2504     1321          7"
      ]
     },
     "execution_count": 5,
     "metadata": {},
     "output_type": "execute_result"
    }
   ],
   "source": [
    "df.describe(include='O')"
   ]
  },
  {
   "cell_type": "code",
   "execution_count": 6,
   "metadata": {},
   "outputs": [
    {
     "name": "stdout",
     "output_type": "stream",
     "text": [
      "<class 'pandas.core.frame.DataFrame'>\n",
      "RangeIndex: 5000 entries, 0 to 4999\n",
      "Data columns (total 11 columns):\n",
      " #   Column     Non-Null Count  Dtype   \n",
      "---  ------     --------------  -----   \n",
      " 0   region     5000 non-null   category\n",
      " 1   country    5000 non-null   category\n",
      " 2   item_type  5000 non-null   category\n",
      " 3   channel    5000 non-null   category\n",
      " 4   priority   5000 non-null   category\n",
      " 5   ordered    5000 non-null   object  \n",
      " 6   id         5000 non-null   int64   \n",
      " 7   shipped    5000 non-null   object  \n",
      " 8   sold       5000 non-null   int64   \n",
      " 9   price      5000 non-null   float64 \n",
      " 10  cost       5000 non-null   float64 \n",
      "dtypes: category(5), float64(2), int64(2), object(2)\n",
      "memory usage: 849.0 KB\n"
     ]
    }
   ],
   "source": [
    "dtypes = {h: 'category' for h in 'region country item_type channel priority'.split()}\n",
    "df = pd.read_csv('../DATA/sales_records.csv', names=names, dtype=dtypes, skiprows=1)\n",
    "df.info(memory_usage='deep')"
   ]
  },
  {
   "cell_type": "code",
   "execution_count": 25,
   "metadata": {},
   "outputs": [],
   "source": [
    "g = df.groupby('item_type')"
   ]
  },
  {
   "cell_type": "code",
   "execution_count": 32,
   "metadata": {},
   "outputs": [
    {
     "data": {
      "image/png": "[encoded data removed]",
      "text/plain": [
       "<Figure size 432x288 with 1 Axes>"
      ]
     },
     "metadata": {
      "needs_background": "light"
     },
     "output_type": "display_data"
    }
   ],
   "source": [
    "for country, data in g:\n",
    "    x = round(data['cost'].mean(), 2)\n",
    "    y = round(data['sold'].mean(), 2)\n",
    "    plt.scatter(x,y)"
   ]
  },
  {
   "cell_type": "code",
   "execution_count": 22,
   "metadata": {},
   "outputs": [
    {
     "data": {
      "image/png": "[encoded data removed]",
      "text/plain": [
       "<Figure size 432x288 with 1 Axes>"
      ]
     },
     "metadata": {
      "needs_background": "light"
     },
     "output_type": "display_data"
    }
   ],
   "source": [
    "for country, data in df.groupby('cost'):\n",
    "    x = round(data['cost'].mean(), 2)\n",
    "    y = round(data['sold'].mean(), 2)\n",
    "    plt.scatter(x,y)"
   ]
  },
  {
   "cell_type": "code",
   "execution_count": 23,
   "metadata": {},
   "outputs": [
    {
     "data": {
      "image/png": "[encoded data removed]",
      "text/plain": [
       "<Figure size 432x288 with 1 Axes>"
      ]
     },
     "metadata": {
      "needs_background": "light"
     },
     "output_type": "display_data"
    }
   ],
   "source": [
    "for country, data in df.groupby('price'):\n",
    "    x = round(data['price'].mean(), 2)\n",
    "    y = round(data['sold'].mean(), 2)\n",
    "    plt.scatter(x,y)"
   ]
  },
  {
   "cell_type": "code",
   "execution_count": null,
   "metadata": {},
   "outputs": [],
   "source": []
  }
 ],
 "metadata": {
  "kernelspec": {
   "display_name": "Python 3",
   "language": "python",
   "name": "python3"
  },
  "language_info": {
   "codemirror_mode": {
    "name": "ipython",
    "version": 3
   },
   "file_extension": ".py",
   "mimetype": "text/x-python",
   "name": "python",
   "nbconvert_exporter": "python",
   "pygments_lexer": "ipython3",
   "version": "3.7.6"
  }
 },
 "nbformat": 4,
 "nbformat_minor": 4
}
