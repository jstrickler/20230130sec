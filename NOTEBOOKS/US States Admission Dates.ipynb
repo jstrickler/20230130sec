{
 "cells": [
  {
   "cell_type": "markdown",
   "metadata": {},
   "source": [
    "# Admission of States to the US"
   ]
  },
  {
   "cell_type": "markdown",
   "metadata": {},
   "source": [
    "## Imports"
   ]
  },
  {
   "cell_type": "code",
   "execution_count": 2,
   "metadata": {
    "collapsed": true
   },
   "outputs": [],
   "source": [
    "import pandas as pd\n",
    "import numpy as np\n",
    "import re\n",
    "import datetime as dt\n",
    "from dateutil.parser import parse\n",
    "import matplotlib.pyplot as plt\n",
    "%matplotlib inline\n",
    "\n"
   ]
  },
  {
   "cell_type": "markdown",
   "metadata": {},
   "source": [
    "## Read HTML table into a dataframe\n",
    "\n",
    "Read all tables which match a pattern into a list of dataframes; select the first (and only) dataframe in the list."
   ]
  },
  {
   "cell_type": "code",
   "execution_count": 4,
   "metadata": {},
   "outputs": [
    {
     "data": {
      "text/html": [
       "<div>\n",
       "<style scoped>\n",
       "    .dataframe tbody tr th:only-of-type {\n",
       "        vertical-align: middle;\n",
       "    }\n",
       "\n",
       "    .dataframe tbody tr th {\n",
       "        vertical-align: top;\n",
       "    }\n",
       "\n",
       "    .dataframe thead th {\n",
       "        text-align: right;\n",
       "    }\n",
       "</style>\n",
       "<table border=\"1\" class=\"dataframe\">\n",
       "  <thead>\n",
       "    <tr style=\"text-align: right;\">\n",
       "      <th></th>\n",
       "      <th>Date(admitted or ratified)</th>\n",
       "      <th>Formed from</th>\n",
       "      <th>Unnamed: 3</th>\n",
       "    </tr>\n",
       "    <tr>\n",
       "      <th>State</th>\n",
       "      <th></th>\n",
       "      <th></th>\n",
       "      <th></th>\n",
       "    </tr>\n",
       "  </thead>\n",
       "  <tbody>\n",
       "    <tr>\n",
       "      <th>1</th>\n",
       "      <td>Delaware</td>\n",
       "      <td>December 7, 1787[8](ratified)</td>\n",
       "      <td>Colony of Delaware[b]</td>\n",
       "    </tr>\n",
       "    <tr>\n",
       "      <th>2</th>\n",
       "      <td>Pennsylvania</td>\n",
       "      <td>December 12, 1787[10](ratified)</td>\n",
       "      <td>Proprietary Province of Pennsylvania</td>\n",
       "    </tr>\n",
       "    <tr>\n",
       "      <th>3</th>\n",
       "      <td>New Jersey</td>\n",
       "      <td>December 18, 1787[11](ratified)</td>\n",
       "      <td>Crown Colony of New Jersey</td>\n",
       "    </tr>\n",
       "    <tr>\n",
       "      <th>4</th>\n",
       "      <td>Georgia</td>\n",
       "      <td>January 2, 1788[8](ratified)</td>\n",
       "      <td>Crown Colony of Georgia</td>\n",
       "    </tr>\n",
       "    <tr>\n",
       "      <th>5</th>\n",
       "      <td>Connecticut</td>\n",
       "      <td>January 9, 1788[12](ratified)</td>\n",
       "      <td>Crown Colony of Connecticut</td>\n",
       "    </tr>\n",
       "  </tbody>\n",
       "</table>\n",
       "</div>"
      ],
      "text/plain": [
       "      Date(admitted or ratified)                      Formed from  \\\n",
       "State                                                               \n",
       "1                       Delaware    December 7, 1787[8](ratified)   \n",
       "2                   Pennsylvania  December 12, 1787[10](ratified)   \n",
       "3                     New Jersey  December 18, 1787[11](ratified)   \n",
       "4                        Georgia     January 2, 1788[8](ratified)   \n",
       "5                    Connecticut    January 9, 1788[12](ratified)   \n",
       "\n",
       "                                 Unnamed: 3  \n",
       "State                                        \n",
       "1                     Colony of Delaware[b]  \n",
       "2      Proprietary Province of Pennsylvania  \n",
       "3                Crown Colony of New Jersey  \n",
       "4                   Crown Colony of Georgia  \n",
       "5               Crown Colony of Connecticut  "
      ]
     },
     "execution_count": 4,
     "metadata": {},
     "output_type": "execute_result"
    }
   ],
   "source": [
    "df_list = pd.read_html(\n",
    "    'https://en.wikipedia.org/wiki/List_of_U.S._states_by_date_of_admission_to_the_Union',\n",
    "    match=\"Massachusetts Bay\",\n",
    "    index_col = 0,\n",
    "    header=0,\n",
    ")\n",
    "df = df_list[0] # only 1 table contains \"Massachusetts Bay\"\n",
    "df.head()"
   ]
  },
  {
   "cell_type": "markdown",
   "metadata": {},
   "source": [
    "## Clean up the data\n",
    "\n",
    "Because of the HTML used, the date contains the method of entry into the US, either \"(ratified)\" or \"(admitted)\", and some extra information in square brackets. We need to pull the date and the entry method out of that column.\n",
    "\n",
    "The **parse_date()** function takes the raw date column and parses the date into a standard **datetime.date** object.\n",
    "\n",
    "After assigning new column names, we add a new column named 'Method', derived from the last 10 characters of the **Date** column. Then we apply the parse_date() function to the existing Date column, replacing the original values."
   ]
  },
  {
   "cell_type": "code",
   "execution_count": 42,
   "metadata": {},
   "outputs": [
    {
     "data": {
      "text/html": [
       "<div>\n",
       "<style>\n",
       "    .dataframe thead tr:only-child th {\n",
       "        text-align: right;\n",
       "    }\n",
       "\n",
       "    .dataframe thead th {\n",
       "        text-align: left;\n",
       "    }\n",
       "\n",
       "    .dataframe tbody tr th {\n",
       "        vertical-align: top;\n",
       "    }\n",
       "</style>\n",
       "<table border=\"1\" class=\"dataframe\">\n",
       "  <thead>\n",
       "    <tr style=\"text-align: right;\">\n",
       "      <th></th>\n",
       "      <th>State</th>\n",
       "      <th>Date</th>\n",
       "      <th>Formed from</th>\n",
       "      <th>Method</th>\n",
       "    </tr>\n",
       "    <tr>\n",
       "      <th>State</th>\n",
       "      <th></th>\n",
       "      <th></th>\n",
       "      <th></th>\n",
       "      <th></th>\n",
       "    </tr>\n",
       "  </thead>\n",
       "  <tbody>\n",
       "    <tr>\n",
       "      <th>1</th>\n",
       "      <td>Delaware</td>\n",
       "      <td>1787-12-07</td>\n",
       "      <td>Colony of Delaware[b]</td>\n",
       "      <td>(ratified)</td>\n",
       "    </tr>\n",
       "    <tr>\n",
       "      <th>2</th>\n",
       "      <td>Pennsylvania</td>\n",
       "      <td>1787-12-12</td>\n",
       "      <td>Proprietary Province of Pennsylvania</td>\n",
       "      <td>(ratified)</td>\n",
       "    </tr>\n",
       "    <tr>\n",
       "      <th>3</th>\n",
       "      <td>New Jersey</td>\n",
       "      <td>1787-12-18</td>\n",
       "      <td>Crown Colony of New Jersey</td>\n",
       "      <td>(ratified)</td>\n",
       "    </tr>\n",
       "    <tr>\n",
       "      <th>4</th>\n",
       "      <td>Georgia</td>\n",
       "      <td>1788-01-02</td>\n",
       "      <td>Crown Colony of Georgia</td>\n",
       "      <td>(ratified)</td>\n",
       "    </tr>\n",
       "    <tr>\n",
       "      <th>5</th>\n",
       "      <td>Connecticut</td>\n",
       "      <td>1788-01-09</td>\n",
       "      <td>Crown Colony of Connecticut</td>\n",
       "      <td>(ratified)</td>\n",
       "    </tr>\n",
       "  </tbody>\n",
       "</table>\n",
       "</div>"
      ],
      "text/plain": [
       "              State       Date                           Formed from  \\\n",
       "State                                                                  \n",
       "1          Delaware 1787-12-07                 Colony of Delaware[b]   \n",
       "2      Pennsylvania 1787-12-12  Proprietary Province of Pennsylvania   \n",
       "3        New Jersey 1787-12-18            Crown Colony of New Jersey   \n",
       "4           Georgia 1788-01-02               Crown Colony of Georgia   \n",
       "5       Connecticut 1788-01-09           Crown Colony of Connecticut   \n",
       "\n",
       "           Method  \n",
       "State              \n",
       "1      (ratified)  \n",
       "2      (ratified)  \n",
       "3      (ratified)  \n",
       "4      (ratified)  \n",
       "5      (ratified)  "
      ]
     },
     "execution_count": 42,
     "metadata": {},
     "output_type": "execute_result"
    }
   ],
   "source": [
    "RX_DATE = r'([A-Z][a-z]+\\s+\\d{1,2},\\s+\\d{4})'\n",
    "\n",
    "def parse_date(column_value):\n",
    "    match = re.search(RX_DATE, column_value)\n",
    "    return parse(match.group(1))\n",
    "\n",
    "df.columns = ['State',  'Date', 'Formed from']\n",
    "df['Method'] = df['Date'].apply(lambda x: x[-10:])\n",
    "df['Date'] = df['Date'].apply(parse_date)\n",
    "df.head()"
   ]
  },
  {
   "cell_type": "markdown",
   "metadata": {},
   "source": [
    "## Plot the results\n",
    "\n",
    "We want to show a time graph of when colonies or territories became states, and distinguish between the original 13 colonies and the rest of the states. \n",
    "\n",
    "First we create a date object that is after the last colony ratified the Articles of Confederation, but before the first state was admitted. \n",
    "\n",
    "Then we create two Series objects: **ratified** contains the original colonies; **admitted** contains the rest. \n",
    "\n",
    "The data are plotted with the **plot_date()** method of **matplotlib.pyplot**, using a different color for each group of states."
   ]
  },
  {
   "cell_type": "code",
   "execution_count": 43,
   "metadata": {},
   "outputs": [
    {
     "name": "stdout",
     "output_type": "stream",
     "text": [
      "<class 'pandas.core.series.Series'>\n"
     ]
    },
    {
     "data": {
      "text/plain": [
       "<matplotlib.legend.Legend at 0x11b2982e8>"
      ]
     },
     "execution_count": 43,
     "metadata": {},
     "output_type": "execute_result"
    },
    {
     "data": {
      "image/png": "[encoded data removed]",
      "text/plain": [
       "<matplotlib.figure.Figure at 0x11a4b7a58>"
      ]
     },
     "metadata": {},
     "output_type": "display_data"
    }
   ],
   "source": [
    "date_sep = dt.date(1791,1,1)\n",
    "ratified = df['Date'][df['Date'] < date_sep]\n",
    "admitted = df['Date'][df['Date'] > date_sep]\n",
    "print(type(ratified))\n",
    "plt.plot_date(ratified , np.arange(1, len(ratified) + 1), 'b.', label=\"13 Original Colonies\")\n",
    "plt.plot_date(admitted , np.arange(len(ratified) + 1, len(ratified) + len(admitted) + 1), 'r.', label=\"other states\")\n",
    "plt.legend()"
   ]
  },
  {
   "cell_type": "code",
   "execution_count": null,
   "metadata": {
    "collapsed": true
   },
   "outputs": [],
   "source": []
  }
 ],
 "metadata": {
  "kernelspec": {
   "display_name": "Python 3",
   "language": "python",
   "name": "python3"
  },
  "language_info": {
   "codemirror_mode": {
    "name": "ipython",
    "version": 3
   },
   "file_extension": ".py",
   "mimetype": "text/x-python",
   "name": "python",
   "nbconvert_exporter": "python",
   "pygments_lexer": "ipython3",
   "version": "3.6.2"
  }
 },
 "nbformat": 4,
 "nbformat_minor": 2
}
