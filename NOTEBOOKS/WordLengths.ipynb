{
 "cells": [
  {
   "cell_type": "code",
   "execution_count": 29,
   "metadata": {},
   "outputs": [],
   "source": [
    "import matplotlib.pyplot as plt\n",
    "from collections import Counter\n",
    "import seaborn\n",
    "%matplotlib inline\n",
    "seaborn.set()"
   ]
  },
  {
   "cell_type": "code",
   "execution_count": 30,
   "metadata": {},
   "outputs": [],
   "source": [
    "lengths = [len(w) - 1 for w in open('words.txt')]"
   ]
  },
  {
   "cell_type": "code",
   "execution_count": 31,
   "metadata": {},
   "outputs": [
    {
     "name": "stdout",
     "output_type": "stream",
     "text": [
      "Counter({8: 28550, 9: 25004, 7: 23196, 10: 20398, 11: 15578, 6: 15280, 12: 11379, 5: 8667, 13: 7833, 14: 5134, 4: 3914, 15: 3198, 16: 1938, 17: 1125, 3: 977, 18: 594, 19: 328, 20: 159, 2: 96, 21: 62, 22: 29, 23: 13, 24: 9, 27: 2, 25: 2, 28: 1})\n"
     ]
    }
   ],
   "source": [
    "counts = Counter(lengths)\n",
    "print(counts)"
   ]
  },
  {
   "cell_type": "code",
   "execution_count": 40,
   "metadata": {},
   "outputs": [
    {
     "data": {
      "text/plain": [
       "[(2,\n",
       "  3,\n",
       "  4,\n",
       "  5,\n",
       "  6,\n",
       "  7,\n",
       "  8,\n",
       "  9,\n",
       "  10,\n",
       "  11,\n",
       "  12,\n",
       "  13,\n",
       "  14,\n",
       "  15,\n",
       "  16,\n",
       "  17,\n",
       "  18,\n",
       "  19,\n",
       "  20,\n",
       "  21,\n",
       "  22,\n",
       "  23,\n",
       "  24,\n",
       "  25,\n",
       "  27,\n",
       "  28),\n",
       " (96,\n",
       "  977,\n",
       "  3914,\n",
       "  8667,\n",
       "  15280,\n",
       "  23196,\n",
       "  28550,\n",
       "  25004,\n",
       "  20398,\n",
       "  15578,\n",
       "  11379,\n",
       "  7833,\n",
       "  5134,\n",
       "  3198,\n",
       "  1938,\n",
       "  1125,\n",
       "  594,\n",
       "  328,\n",
       "  159,\n",
       "  62,\n",
       "  29,\n",
       "  13,\n",
       "  9,\n",
       "  2,\n",
       "  2,\n",
       "  1)]"
      ]
     },
     "execution_count": 40,
     "metadata": {},
     "output_type": "execute_result"
    }
   ],
   "source": [
    "data = list(zip(*sorted(counts.items())))\n",
    "data"
   ]
  },
  {
   "cell_type": "code",
   "execution_count": 41,
   "metadata": {},
   "outputs": [
    {
     "data": {
      "text/plain": [
       "Text(0, 0.5, 'number of words')"
      ]
     },
     "execution_count": 41,
     "metadata": {},
     "output_type": "execute_result"
    },
    {
     "data": {
      "image/png": "[encoded data removed]",
      "text/plain": [
       "<Figure size 432x288 with 1 Axes>"
      ]
     },
     "metadata": {},
     "output_type": "display_data"
    }
   ],
   "source": [
    "plt.plot(*data)\n",
    "plt.xlabel(\"word length\")\n",
    "plt.ylabel(\"number of words\")\n"
   ]
  },
  {
   "cell_type": "code",
   "execution_count": null,
   "metadata": {},
   "outputs": [],
   "source": []
  }
 ],
 "metadata": {
  "kernelspec": {
   "display_name": "Python 3",
   "language": "python",
   "name": "python3"
  },
  "language_info": {
   "codemirror_mode": {
    "name": "ipython",
    "version": 3
   },
   "file_extension": ".py",
   "mimetype": "text/x-python",
   "name": "python",
   "nbconvert_exporter": "python",
   "pygments_lexer": "ipython3",
   "version": "3.7.6"
  }
 },
 "nbformat": 4,
 "nbformat_minor": 4
}
