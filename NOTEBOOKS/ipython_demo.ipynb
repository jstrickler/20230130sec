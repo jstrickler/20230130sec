{
 "cells": [
  {
   "cell_type": "markdown",
   "metadata": {},
   "source": [
    "# My Jupyter Notebook Demo\n",
    "This will be **awesome**"
   ]
  },
  {
   "cell_type": "markdown",
   "metadata": {},
   "source": [
    "## Part One\n",
    "Import all the things!"
   ]
  },
  {
   "cell_type": "code",
   "execution_count": 1,
   "metadata": {},
   "outputs": [],
   "source": [
    "import numpy as np\n",
    "import scipy as sp\n",
    "import matplotlib.pyplot as plt\n",
    "%matplotlib inline\n",
    "import seaborn"
   ]
  },
  {
   "cell_type": "code",
   "execution_count": 2,
   "metadata": {},
   "outputs": [
    {
     "name": "stdout",
     "output_type": "stream",
     "text": [
      "0\n",
      "1\n",
      "2\n",
      "3\n",
      "4\n",
      "5\n",
      "6\n",
      "7\n",
      "8\n",
      "9\n"
     ]
    }
   ],
   "source": [
    "for i in range(10):\n",
    "    print(i)"
   ]
  },
  {
   "cell_type": "markdown",
   "metadata": {},
   "source": [
    "This is a **comment**, in _markdown_. Surround text with double asterisk for bold, or single underline for italic."
   ]
  },
  {
   "cell_type": "code",
   "execution_count": 4,
   "metadata": {
    "collapsed": true
   },
   "outputs": [],
   "source": [
    "from datetime import date as Date"
   ]
  },
  {
   "cell_type": "code",
   "execution_count": 5,
   "metadata": {
    "collapsed": true
   },
   "outputs": [],
   "source": [
    "then = Date(2011,5,22)"
   ]
  },
  {
   "cell_type": "code",
   "execution_count": 6,
   "metadata": {},
   "outputs": [
    {
     "name": "stdout",
     "output_type": "stream",
     "text": [
      "2011\n"
     ]
    }
   ],
   "source": [
    "print(then.year)"
   ]
  },
  {
   "cell_type": "markdown",
   "metadata": {},
   "source": [
    "Some more documentation. You can use HTML: <ul><li>red</li><li>purple</li><li>orange</li></ul>"
   ]
  },
  {
   "cell_type": "code",
   "execution_count": 7,
   "metadata": {
    "collapsed": true
   },
   "outputs": [],
   "source": [
    "%pinfo then"
   ]
  },
  {
   "cell_type": "code",
   "execution_count": 8,
   "metadata": {},
   "outputs": [
    {
     "data": {
      "application/json": {
       "cell": {
        "!": "OSMagics",
        "HTML": "Other",
        "SVG": "Other",
        "bash": "Other",
        "capture": "ExecutionMagics",
        "debug": "ExecutionMagics",
        "file": "Other",
        "html": "DisplayMagics",
        "javascript": "DisplayMagics",
        "js": "DisplayMagics",
        "latex": "DisplayMagics",
        "markdown": "DisplayMagics",
        "perl": "Other",
        "prun": "ExecutionMagics",
        "pypy": "Other",
        "python": "Other",
        "python2": "Other",
        "python3": "Other",
        "ruby": "Other",
        "script": "ScriptMagics",
        "sh": "Other",
        "svg": "DisplayMagics",
        "sx": "OSMagics",
        "system": "OSMagics",
        "time": "ExecutionMagics",
        "timeit": "ExecutionMagics",
        "writefile": "OSMagics"
       },
       "line": {
        "alias": "OSMagics",
        "alias_magic": "BasicMagics",
        "autocall": "AutoMagics",
        "automagic": "AutoMagics",
        "autosave": "KernelMagics",
        "bookmark": "OSMagics",
        "cat": "Other",
        "cd": "OSMagics",
        "clear": "KernelMagics",
        "colors": "BasicMagics",
        "config": "ConfigMagics",
        "connect_info": "KernelMagics",
        "cp": "Other",
        "debug": "ExecutionMagics",
        "dhist": "OSMagics",
        "dirs": "OSMagics",
        "doctest_mode": "BasicMagics",
        "ed": "Other",
        "edit": "KernelMagics",
        "env": "OSMagics",
        "gui": "BasicMagics",
        "hist": "Other",
        "history": "HistoryMagics",
        "killbgscripts": "ScriptMagics",
        "ldir": "Other",
        "less": "KernelMagics",
        "lf": "Other",
        "lk": "Other",
        "ll": "Other",
        "load": "CodeMagics",
        "load_ext": "ExtensionMagics",
        "loadpy": "CodeMagics",
        "logoff": "LoggingMagics",
        "logon": "LoggingMagics",
        "logstart": "LoggingMagics",
        "logstate": "LoggingMagics",
        "logstop": "LoggingMagics",
        "ls": "Other",
        "lsmagic": "BasicMagics",
        "lx": "Other",
        "macro": "ExecutionMagics",
        "magic": "BasicMagics",
        "man": "KernelMagics",
        "matplotlib": "PylabMagics",
        "mkdir": "Other",
        "more": "KernelMagics",
        "mv": "Other",
        "notebook": "BasicMagics",
        "page": "BasicMagics",
        "pastebin": "CodeMagics",
        "pdb": "ExecutionMagics",
        "pdef": "NamespaceMagics",
        "pdoc": "NamespaceMagics",
        "pfile": "NamespaceMagics",
        "pinfo": "NamespaceMagics",
        "pinfo2": "NamespaceMagics",
        "pip": "BasicMagics",
        "popd": "OSMagics",
        "pprint": "BasicMagics",
        "precision": "BasicMagics",
        "profile": "BasicMagics",
        "prun": "ExecutionMagics",
        "psearch": "NamespaceMagics",
        "psource": "NamespaceMagics",
        "pushd": "OSMagics",
        "pwd": "OSMagics",
        "pycat": "OSMagics",
        "pylab": "PylabMagics",
        "qtconsole": "KernelMagics",
        "quickref": "BasicMagics",
        "recall": "HistoryMagics",
        "rehashx": "OSMagics",
        "reload_ext": "ExtensionMagics",
        "rep": "Other",
        "rerun": "HistoryMagics",
        "reset": "NamespaceMagics",
        "reset_selective": "NamespaceMagics",
        "rm": "Other",
        "rmdir": "Other",
        "run": "ExecutionMagics",
        "save": "CodeMagics",
        "sc": "OSMagics",
        "set_env": "OSMagics",
        "store": "StoreMagics",
        "sx": "OSMagics",
        "system": "OSMagics",
        "tb": "ExecutionMagics",
        "time": "ExecutionMagics",
        "timeit": "ExecutionMagics",
        "unalias": "OSMagics",
        "unload_ext": "ExtensionMagics",
        "who": "NamespaceMagics",
        "who_ls": "NamespaceMagics",
        "whos": "NamespaceMagics",
        "xdel": "NamespaceMagics",
        "xmode": "BasicMagics"
       }
      },
      "text/plain": [
       "Available line magics:\n",
       "%alias  %alias_magic  %autocall  %automagic  %autosave  %bookmark  %cat  %cd  %clear  %colors  %config  %connect_info  %cp  %debug  %dhist  %dirs  %doctest_mode  %ed  %edit  %env  %gui  %hist  %history  %killbgscripts  %ldir  %less  %lf  %lk  %ll  %load  %load_ext  %loadpy  %logoff  %logon  %logstart  %logstate  %logstop  %ls  %lsmagic  %lx  %macro  %magic  %man  %matplotlib  %mkdir  %more  %mv  %notebook  %page  %pastebin  %pdb  %pdef  %pdoc  %pfile  %pinfo  %pinfo2  %popd  %pprint  %precision  %profile  %prun  %psearch  %psource  %pushd  %pwd  %pycat  %pylab  %qtconsole  %quickref  %recall  %rehashx  %reload_ext  %rep  %rerun  %reset  %reset_selective  %rm  %rmdir  %run  %save  %sc  %set_env  %store  %sx  %system  %tb  %time  %timeit  %unalias  %unload_ext  %who  %who_ls  %whos  %xdel  %xmode\n",
       "\n",
       "Available cell magics:\n",
       "%%!  %%HTML  %%SVG  %%bash  %%capture  %%debug  %%file  %%html  %%javascript  %%js  %%latex  %%markdown  %%perl  %%prun  %%pypy  %%python  %%python2  %%python3  %%ruby  %%script  %%sh  %%svg  %%sx  %%system  %%time  %%timeit  %%writefile\n",
       "\n",
       "Automagic is ON, % prefix IS NOT needed for line magics."
      ]
     },
     "execution_count": 8,
     "metadata": {},
     "output_type": "execute_result"
    }
   ],
   "source": [
    "%lsmagic"
   ]
  },
  {
   "cell_type": "code",
   "execution_count": 9,
   "metadata": {},
   "outputs": [
    {
     "data": {
      "text/plain": [
       "['MacBook-Pro-3.local']"
      ]
     },
     "execution_count": 9,
     "metadata": {},
     "output_type": "execute_result"
    }
   ],
   "source": [
    "%system hostname"
   ]
  },
  {
   "cell_type": "code",
   "execution_count": 10,
   "metadata": {},
   "outputs": [
    {
     "name": "stdout",
     "output_type": "stream",
     "text": [
      "           The Tyger\n",
      "\n",
      "Tyger! Tyger! burning bright\n",
      "In the forests of the night,\n",
      "What immortal hand or eye\n",
      "Could frame thy fearful symmetry?\n",
      "\n",
      "In what distant deeps or skies\n",
      "Burnt the fire of thine eyes?\n",
      "On what wings dare he aspire?\n",
      "What the hand dare seize the fire?\n",
      "\n",
      "And what shoulder, & what art,\n",
      "Could twist the sinews of thy heart?\n",
      "And when thy heart began to beat,\n",
      "What dread hand? & what dread feet?\n",
      "\n",
      "What the hammer? what the chain?\n",
      "In what furnace was thy brain?\n",
      "What the anvil? what dread grasp\n",
      "Dare its deadly terrors clasp?\n",
      "\n",
      "When the stars threw down their spears\n",
      "And water'd heaven with their tears,\n",
      "Did he smile his work to see?\n",
      "Did he who made the Lamb make thee?\n",
      "\n",
      "Tyger! Tyger! burning bright\n",
      "In the forests of the night,\n",
      "What immortal hand or eye\n",
      "Dare frame thy fearful symmetry?\n",
      "\n",
      "                    by William Blake\n"
     ]
    }
   ],
   "source": [
    "%run ../EXAMPLES/tyger.py"
   ]
  },
  {
   "cell_type": "markdown",
   "metadata": {},
   "source": [
    "Markdown cells can render LaTeX via MathJax. Put the TeX code inside a pair of dollar signs:\\$\\rho\\$:<br/>\n",
    "$\\rho$, $\\rho$, $\\rho$ your boat"
   ]
  },
  {
   "cell_type": "raw",
   "metadata": {},
   "source": [
    "The next cell renders the following MathJax:\n",
    "\n",
    "$\\mathbf{V}_1 \\times \\mathbf{V}_2 =  \\begin{vmatrix} \\\n",
    "\\mathbf{i} & \\mathbf{j} & \\mathbf{k}  \\\\\n",
    "\\frac{\\partial X}{\\partial u} & \\frac{\\partial Y}{\\partial u} & 0\\\\\n",
    "\\frac{\\partial X}{\\partial v} & \\frac{\\partial Y}{\\partial v} & 0\\\\\n",
    "\\end{vmatrix}$"
   ]
  },
  {
   "cell_type": "markdown",
   "metadata": {},
   "source": [
    "$\\mathbf{V}_1 \\times \\mathbf{V}_2 =  \\begin{vmatrix} \\\n",
    "\\mathbf{i} & \\mathbf{j} & \\mathbf{k}  \\\\\n",
    "\\frac{\\partial X}{\\partial u} & \\frac{\\partial Y}{\\partial u} & 0\\\\\n",
    "\\frac{\\partial X}{\\partial v} & \\frac{\\partial Y}{\\partial v} & 0\\\\\n",
    "\\end{vmatrix}$"
   ]
  },
  {
   "cell_type": "raw",
   "metadata": {},
   "source": [
    "The next cell renders the following MathJax:\n",
    "\n",
    "$\\left( \\sum_{k=1}^n a_k b_k \\right)^2 \\leq \\left( \\sum_{k=1}^n a_k^2 \\right) \\left( \\sum_{k=1}^n b_k^2 \\right)$"
   ]
  },
  {
   "cell_type": "markdown",
   "metadata": {},
   "source": [
    "$\\left( \\sum_{k=1}^n a_k b_k \\right)^2 \\leq \\left( \\sum_{k=1}^n a_k^2 \\right) \\left( \\sum_{k=1}^n b_k^2 \\right)$"
   ]
  },
  {
   "cell_type": "code",
   "execution_count": 11,
   "metadata": {},
   "outputs": [
    {
     "data": {
      "text/plain": [
       "[<matplotlib.lines.Line2D at 0x1a16ae08d0>]"
      ]
     },
     "execution_count": 11,
     "metadata": {},
     "output_type": "execute_result"
    },
    {
     "data": {
      "image/png": "iVBORw0KGgoAAAANSUhEUgAAAXoAAAD8CAYAAAB5Pm/hAAAABHNCSVQICAgIfAhkiAAAAAlwSFlz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\neg6Hw+lzeKDncDicPuf/B49i2akABkhkAAAAAElFTkSuQmCC\n",
      "text/plain": [
       "<matplotlib.figure.Figure at 0x1a0e5e7c50>"
      ]
     },
     "metadata": {},
     "output_type": "display_data"
    }
   ],
   "source": [
    "values = np.random.randint(1, 100, 50)\n",
    "plt.plot(values)"
   ]
  },
  {
   "cell_type": "code",
   "execution_count": 13,
   "metadata": {},
   "outputs": [
    {
     "name": "stdout",
     "output_type": "stream",
     "text": [
      "==========================================\n",
      "Statistical functions (:mod:`scipy.stats`)\n",
      "==========================================\n",
      "\n",
      ".. module:: scipy.stats\n",
      "\n",
      "This module contains a large number of probability distributions as\n",
      "well as a growing library of statistical functions.\n",
      "\n",
      "Each univariate distribution is an instance of a subclass of `rv_continuous`\n",
      "(`rv_discrete` for discrete distributions):\n",
      "\n",
      ".. autosummary::\n",
      "   :toctree: generated/\n",
      "\n",
      "   rv_continuous\n",
      "   rv_discrete\n",
      "   rv_histogram\n",
      "\n",
      "Continuous distributions\n",
      "========================\n",
      "\n",
      ".. autosummary::\n",
      "   :toctree: generated/\n",
      "\n",
      "   alpha             -- Alpha\n",
      "   anglit            -- Anglit\n",
      "   arcsine           -- Arcsine\n",
      "   argus             -- Argus\n",
      "   beta              -- Beta\n",
      "   betaprime         -- Beta Prime\n",
      "   bradford          -- Bradford\n",
      "   burr              -- Burr (Type III)\n",
      "   burr12            -- Burr (Type XII)\n",
      "   cauchy            -- Cauchy\n",
      "   chi               -- Chi\n",
      "   chi2              -- Chi-squared\n",
      "   cosine            -- Cosine\n",
      "   dgamma            -- Double Gamma\n",
      "   dweibull          -- Double Weibull\n",
      "   erlang            -- Erlang\n",
      "   expon             -- Exponential\n",
      "   exponnorm         -- Exponentially Modified Normal\n",
      "   exponweib         -- Exponentiated Weibull\n",
      "   exponpow          -- Exponential Power\n",
      "   f                 -- F (Snecdor F)\n",
      "   fatiguelife       -- Fatigue Life (Birnbaum-Saunders)\n",
      "   fisk              -- Fisk\n",
      "   foldcauchy        -- Folded Cauchy\n",
      "   foldnorm          -- Folded Normal\n",
      "   frechet_r         -- Frechet Right Sided, Extreme Value Type II (Extreme LB) or weibull_min\n",
      "   frechet_l         -- Frechet Left Sided, Weibull_max\n",
      "   genlogistic       -- Generalized Logistic\n",
      "   gennorm           -- Generalized normal\n",
      "   genpareto         -- Generalized Pareto\n",
      "   genexpon          -- Generalized Exponential\n",
      "   genextreme        -- Generalized Extreme Value\n",
      "   gausshyper        -- Gauss Hypergeometric\n",
      "   gamma             -- Gamma\n",
      "   gengamma          -- Generalized gamma\n",
      "   genhalflogistic   -- Generalized Half Logistic\n",
      "   gilbrat           -- Gilbrat\n",
      "   gompertz          -- Gompertz (Truncated Gumbel)\n",
      "   gumbel_r          -- Right Sided Gumbel, Log-Weibull, Fisher-Tippett, Extreme Value Type I\n",
      "   gumbel_l          -- Left Sided Gumbel, etc.\n",
      "   halfcauchy        -- Half Cauchy\n",
      "   halflogistic      -- Half Logistic\n",
      "   halfnorm          -- Half Normal\n",
      "   halfgennorm       -- Generalized Half Normal\n",
      "   hypsecant         -- Hyperbolic Secant\n",
      "   invgamma          -- Inverse Gamma\n",
      "   invgauss          -- Inverse Gaussian\n",
      "   invweibull        -- Inverse Weibull\n",
      "   johnsonsb         -- Johnson SB\n",
      "   johnsonsu         -- Johnson SU\n",
      "   kappa4            -- Kappa 4 parameter\n",
      "   kappa3            -- Kappa 3 parameter\n",
      "   ksone             -- Kolmogorov-Smirnov one-sided (no stats)\n",
      "   kstwobign         -- Kolmogorov-Smirnov two-sided test for Large N (no stats)\n",
      "   laplace           -- Laplace\n",
      "   levy              -- Levy\n",
      "   levy_l\n",
      "   levy_stable\n",
      "   logistic          -- Logistic\n",
      "   loggamma          -- Log-Gamma\n",
      "   loglaplace        -- Log-Laplace (Log Double Exponential)\n",
      "   lognorm           -- Log-Normal\n",
      "   lomax             -- Lomax (Pareto of the second kind)\n",
      "   maxwell           -- Maxwell\n",
      "   mielke            -- Mielke's Beta-Kappa\n",
      "   nakagami          -- Nakagami\n",
      "   ncx2              -- Non-central chi-squared\n",
      "   ncf               -- Non-central F\n",
      "   nct               -- Non-central Student's T\n",
      "   norm              -- Normal (Gaussian)\n",
      "   pareto            -- Pareto\n",
      "   pearson3          -- Pearson type III\n",
      "   powerlaw          -- Power-function\n",
      "   powerlognorm      -- Power log normal\n",
      "   powernorm         -- Power normal\n",
      "   rdist             -- R-distribution\n",
      "   reciprocal        -- Reciprocal\n",
      "   rayleigh          -- Rayleigh\n",
      "   rice              -- Rice\n",
      "   recipinvgauss     -- Reciprocal Inverse Gaussian\n",
      "   semicircular      -- Semicircular\n",
      "   skewnorm          -- Skew normal\n",
      "   t                 -- Student's T\n",
      "   trapz              -- Trapezoidal\n",
      "   triang            -- Triangular\n",
      "   truncexpon        -- Truncated Exponential\n",
      "   truncnorm         -- Truncated Normal\n",
      "   tukeylambda       -- Tukey-Lambda\n",
      "   uniform           -- Uniform\n",
      "   vonmises          -- Von-Mises (Circular)\n",
      "   vonmises_line     -- Von-Mises (Line)\n",
      "   wald              -- Wald\n",
      "   weibull_min       -- Minimum Weibull (see Frechet)\n",
      "   weibull_max       -- Maximum Weibull (see Frechet)\n",
      "   wrapcauchy        -- Wrapped Cauchy\n",
      "\n",
      "Multivariate distributions\n",
      "==========================\n",
      "\n",
      ".. autosummary::\n",
      "   :toctree: generated/\n",
      "\n",
      "   multivariate_normal   -- Multivariate normal distribution\n",
      "   matrix_normal         -- Matrix normal distribution\n",
      "   dirichlet             -- Dirichlet\n",
      "   wishart               -- Wishart\n",
      "   invwishart            -- Inverse Wishart\n",
      "   multinomial           -- Multinomial distribution\n",
      "   special_ortho_group   -- SO(N) group\n",
      "   ortho_group           -- O(N) group\n",
      "   random_correlation    -- random correlation matrices\n",
      "\n",
      "Discrete distributions\n",
      "======================\n",
      "\n",
      ".. autosummary::\n",
      "   :toctree: generated/\n",
      "\n",
      "   bernoulli         -- Bernoulli\n",
      "   binom             -- Binomial\n",
      "   boltzmann         -- Boltzmann (Truncated Discrete Exponential)\n",
      "   dlaplace          -- Discrete Laplacian\n",
      "   geom              -- Geometric\n",
      "   hypergeom         -- Hypergeometric\n",
      "   logser            -- Logarithmic (Log-Series, Series)\n",
      "   nbinom            -- Negative Binomial\n",
      "   planck            -- Planck (Discrete Exponential)\n",
      "   poisson           -- Poisson\n",
      "   randint           -- Discrete Uniform\n",
      "   skellam           -- Skellam\n",
      "   zipf              -- Zipf\n",
      "\n",
      "Statistical functions\n",
      "=====================\n",
      "\n",
      "Several of these functions have a similar version in scipy.stats.mstats\n",
      "which work for masked arrays.\n",
      "\n",
      ".. autosummary::\n",
      "   :toctree: generated/\n",
      "\n",
      "   describe          -- Descriptive statistics\n",
      "   gmean             -- Geometric mean\n",
      "   hmean             -- Harmonic mean\n",
      "   kurtosis          -- Fisher or Pearson kurtosis\n",
      "   kurtosistest      --\n",
      "   mode              -- Modal value\n",
      "   moment            -- Central moment\n",
      "   normaltest        --\n",
      "   skew              -- Skewness\n",
      "   skewtest          --\n",
      "   kstat             --\n",
      "   kstatvar          --\n",
      "   tmean             -- Truncated arithmetic mean\n",
      "   tvar              -- Truncated variance\n",
      "   tmin              --\n",
      "   tmax              --\n",
      "   tstd              --\n",
      "   tsem              --\n",
      "   variation         -- Coefficient of variation\n",
      "   find_repeats\n",
      "   trim_mean\n",
      "\n",
      ".. autosummary::\n",
      "   :toctree: generated/\n",
      "\n",
      "   cumfreq\n",
      "   histogram2\n",
      "   histogram\n",
      "   itemfreq\n",
      "   percentileofscore\n",
      "   scoreatpercentile\n",
      "   relfreq\n",
      "\n",
      ".. autosummary::\n",
      "   :toctree: generated/\n",
      "\n",
      "   binned_statistic     -- Compute a binned statistic for a set of data.\n",
      "   binned_statistic_2d  -- Compute a 2-D binned statistic for a set of data.\n",
      "   binned_statistic_dd  -- Compute a d-D binned statistic for a set of data.\n",
      "\n",
      ".. autosummary::\n",
      "   :toctree: generated/\n",
      "\n",
      "   obrientransform\n",
      "   signaltonoise\n",
      "   bayes_mvs\n",
      "   mvsdist\n",
      "   sem\n",
      "   zmap\n",
      "   zscore\n",
      "   iqr\n",
      "\n",
      ".. autosummary::\n",
      "   :toctree: generated/\n",
      "\n",
      "   sigmaclip\n",
      "   threshold\n",
      "   trimboth\n",
      "   trim1\n",
      "\n",
      ".. autosummary::\n",
      "   :toctree: generated/\n",
      "\n",
      "   f_oneway\n",
      "   pearsonr\n",
      "   spearmanr\n",
      "   pointbiserialr\n",
      "   kendalltau\n",
      "   weightedtau\n",
      "   linregress\n",
      "   theilslopes\n",
      "   f_value\n",
      "\n",
      ".. autosummary::\n",
      "   :toctree: generated/\n",
      "\n",
      "   ttest_1samp\n",
      "   ttest_ind\n",
      "   ttest_ind_from_stats\n",
      "   ttest_rel\n",
      "   kstest\n",
      "   chisquare\n",
      "   power_divergence\n",
      "   ks_2samp\n",
      "   mannwhitneyu\n",
      "   tiecorrect\n",
      "   rankdata\n",
      "   ranksums\n",
      "   wilcoxon\n",
      "   kruskal\n",
      "   friedmanchisquare\n",
      "   combine_pvalues\n",
      "   ss\n",
      "   square_of_sums\n",
      "   jarque_bera\n",
      "\n",
      ".. autosummary::\n",
      "   :toctree: generated/\n",
      "\n",
      "   ansari\n",
      "   bartlett\n",
      "   levene\n",
      "   shapiro\n",
      "   anderson\n",
      "   anderson_ksamp\n",
      "   binom_test\n",
      "   fligner\n",
      "   median_test\n",
      "   mood\n",
      "\n",
      ".. autosummary::\n",
      "   :toctree: generated/\n",
      "\n",
      "   boxcox\n",
      "   boxcox_normmax\n",
      "   boxcox_llf\n",
      "\n",
      "   entropy\n",
      "\n",
      ".. autosummary::\n",
      "   :toctree: generated/\n",
      "\n",
      "   chisqprob\n",
      "   betai\n",
      "\n",
      "Circular statistical functions\n",
      "==============================\n",
      "\n",
      ".. autosummary::\n",
      "   :toctree: generated/\n",
      "\n",
      "   circmean\n",
      "   circvar\n",
      "   circstd\n",
      "\n",
      "Contingency table functions\n",
      "===========================\n",
      "\n",
      ".. autosummary::\n",
      "   :toctree: generated/\n",
      "\n",
      "   chi2_contingency\n",
      "   contingency.expected_freq\n",
      "   contingency.margins\n",
      "   fisher_exact\n",
      "\n",
      "Plot-tests\n",
      "==========\n",
      "\n",
      ".. autosummary::\n",
      "   :toctree: generated/\n",
      "\n",
      "   ppcc_max\n",
      "   ppcc_plot\n",
      "   probplot\n",
      "   boxcox_normplot\n",
      "\n",
      "\n",
      "Masked statistics functions\n",
      "===========================\n",
      "\n",
      ".. toctree::\n",
      "\n",
      "   stats.mstats\n",
      "\n",
      "\n",
      "Univariate and multivariate kernel density estimation (:mod:`scipy.stats.kde`)\n",
      "==============================================================================\n",
      "\n",
      ".. autosummary::\n",
      "   :toctree: generated/\n",
      "\n",
      "   gaussian_kde\n",
      "\n",
      "For many more stat related functions install the software R and the\n",
      "interface package rpy.\n"
     ]
    }
   ],
   "source": [
    "from scipy import stats\n",
    "sp.info(stats)"
   ]
  },
  {
   "cell_type": "code",
   "execution_count": null,
   "metadata": {
    "collapsed": true
   },
   "outputs": [],
   "source": []
  }
 ],
 "metadata": {
  "kernelspec": {
   "display_name": "Python 3 (ipykernel)",
   "language": "python",
   "name": "python3"
  },
  "language_info": {
   "codemirror_mode": {
    "name": "ipython",
    "version": 3
   },
   "file_extension": ".py",
   "mimetype": "text/x-python",
   "name": "python",
   "nbconvert_exporter": "python",
   "pygments_lexer": "ipython3",
<<<<<<< HEAD
   "version": "3.9.12"
=======
   "version": "3.7.6"
>>>>>>> 3c7dd97b72ef11fa95131403a1aac71a96e58d22
  }
 },
 "nbformat": 4,
 "nbformat_minor": 1
}
